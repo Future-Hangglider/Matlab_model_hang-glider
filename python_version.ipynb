{
 "cells": [
  {
   "cell_type": "code",
   "execution_count": 29,
   "metadata": {},
   "outputs": [],
   "source": [
    "import math\n",
    "\n",
    "lphamin=-5;\n",
    "alphamax=30;\n",
    "alph0=20;     # angle of attack initial en degrees (alph=a+f)\n",
    "u0 =0 ;       # initial position (0) \n",
    "a0 =-10;      # flight path angle in degrees Gamma\n",
    "b0=0 ;        #Pitch rate attitude in degrees/sec^2 Theta dot\n",
    "v0=9;         #initial airspeed in m/s\n",
    "\n",
    "# Transformation in radians\n",
    "alphr0=alph0*math.pi/180;\n",
    "ar0=(a0*math.pi)/180;  # flight path angle in radians \n",
    "fr0=alphr0+ar0;   #pitch attitude in radians/sec Theta\n",
    "br0=b0*math.pi/180;  #Pith rate attitude in radians/sec^2\n",
    "\n",
    "timespan=0.1;\n",
    "T0 =0;\n",
    "T1 =18;        # in seconds\n",
    "\n",
    "mpilot=90;    # kg (including harness and clothing = Hook-in weight)\n",
    "h=1.2;        # in m (hang strap length)\n",
    "Lb=0.4;       # 0.4 if forward , -0.74 if backward :distance between the cgpilot and the axis of the control bar,if trim change 'Pil_act'\n",
    "Pil_act='Active'; # Choose Trim , or Active to make the pilot controlling the control bar or not.\n",
    "Pil_pos='Prone';  # Choose Stand or Prone\n",
    "Glider='Falcon';  #Falcon or T2C\n",
    "\n",
    "\n",
    "Cmo=0.05;\n",
    "I=102;        # in kg.m� according to G.V , I=110;% according to Cook study. Inertia Pilot+ Glider about CGTotal\n",
    "AR=5.5;       # Aspect ratio Falcon 5.5\n",
    "S=15.8;       # m^2 Falcon 170 area\n",
    "c=1.9;        # m Falcon 170\n",
    "mwing=22;     # kg\n",
    "tpdist=8.5*c/100; # en m (distance between CGW et Tether point)\n",
    "cgdist=0.06;  # distance between tether point and the CGW .\n",
    "phid=14;      # angle in degrees between the downtube and the axis perpendicular to the keel\n",
    "sweepd=31;    # Sweep angle at the quarterchord in degrees\n",
    "Clwa=3.5;     # spanwise average value of the wing section lift curve slope (slope of CL between 5 and 15 degrees of alpha)\n",
    "cbar=1.55;    # distance between the apex of the downtubes and the control bar axis (optional)\n",
    "        \n",
    "Scx=0.16;     # S.Cx of the pilot position. If prone : Scx=0.16. If stood: Scx=0.66\n",
    "g = 9.81;     # N/kg or \n",
    "rho=1.22;     # kg/m^3\n"
   ]
  },
  {
   "cell_type": "code",
   "execution_count": 30,
   "metadata": {},
   "outputs": [],
   "source": [
    "AC=[0, 0];     # Center of the landmark ( aerodynamic center)\n",
    "M=mpilot+mwing;\n",
    "Pp=mpilot*g;            # Force from mass\n",
    "Pw=mwing*g;             # Force from mass  \n",
    "phi=phid/360*2*math.pi; # conversion in radians\n",
    "ksi=math.atan(Lb/h);         # angle between cg pilot and the downtubes in radians\n",
    "ksid=ksi/2/math.pi*360;\n",
    "sweep=sweepd/360*2*math.pi;\n",
    "\n"
   ]
  },
  {
   "cell_type": "code",
   "execution_count": 48,
   "metadata": {},
   "outputs": [],
   "source": [
    "import scipy.integrate\n",
    "import numpy\n",
    "\n",
    "def motions(t, z):\n",
    "    Lb = 0.4 \n",
    "    Lb = 0.74  if t < 8 else 0.5\n",
    "        \n",
    "    alpha=z[2]-z[4];\n",
    "    Clift=-16.6*alpha**3+11.48*alpha**2+1.3*alpha+0.038;\n",
    "    Cdg=7.07*alpha**3-4.68*alpha**2+1.1*alpha-0.0144;\n",
    "\n",
    "    lift=0.5*rho*S*Clift*z[3]**2;\n",
    "    Dcdg=0.5*Cdg*rho*S*z[3]**2;     # Drag of the wing alone\n",
    "    Dpilot=0.5*rho*Scx*z[3]**2;     # Drag of the pilot alone\n",
    "    drag=Dcdg+Dpilot;               # Drag of the system (wing + pilot)\n",
    "    \n",
    "    AC=[0, 0];     # Center of the landmark ( aerodynamic center)\n",
    "    M=mpilot+mwing;\n",
    "    dyn=0.5*rho*z[3]**2*S;  # dynamic pressure\n",
    "    \n",
    "    Pp=mpilot*g;            # Force from mass\n",
    "    Pw=mwing*g;             # Force from mass  \n",
    "    phi=phid/360*2*math.pi; # conversion in radians\n",
    "    ksi=math.atan(Lb/h);    # angle between cg pilot and the downtubes in radians\n",
    "    ksid=ksi/2/math.pi*360;\n",
    "    sweep=sweepd/360*2*math.pi;\n",
    "\n",
    "    # Tether point (point d'accroche)\n",
    "    tpx=tpdist*math.cos(z[2]);\n",
    "    tpy=tpdist*math.sin(z[2]);\n",
    "\n",
    "    # The wing\n",
    "    xCGW=tpx+cgdist*math.cos(z[2]);\n",
    "    yCGW=tpy+cgdist*math.sin(z[2]);\n",
    "    CGW=numpy.array([xCGW, yCGW])\n",
    "\n",
    "    #Pilot center of gravity\n",
    "    # Pilote maintains the angle ksi with the downtubes . Forward or Backward\n",
    "    #     case 'Active';\n",
    "    xCGP=tpx+math.sin(z[2]+phi+ksi)*h;\n",
    "    yCGP=tpy-math.cos(z[2]+phi+ksi)*h;\n",
    "\n",
    "    CGP=numpy.array([xCGP, yCGP])    # Position CG pilot\n",
    "\n",
    "    # Center of gravity total \n",
    "    xCGT=(mpilot*xCGP+mwing*xCGW)/M;\n",
    "    yCGT=(mpilot*yCGP+mwing*yCGW)/M;\n",
    "    CGT=numpy.array([xCGT, yCGT])     # Position CG of the system (pilot+wing)\n",
    "\n",
    "    # The control bar\n",
    "    xcbar=tpx+math.sin(z[2]+phi)*cbar\n",
    "    ycbar=tpy-math.cos(z[2]+phi)*cbar;\n",
    "\n",
    "\n",
    "    # Tau=z[4];\n",
    "    Cx=-Dcdg;\n",
    "    Cy=lift;\n",
    "\n",
    "    d=numpy.sqrt(sum(CGT**2));  # norm\n",
    "\n",
    "    # Cmq variable (from Methods for Estimating Stability and Control Derivatives for Standard Subsonic Airplanes (1973) -Roskam p51  )\n",
    "    if AR<=6:\n",
    "        K=0.7;\n",
    "    if AR>6 and AR<10:\n",
    "        K=0.1*math.sin(2*math.pi*AR/8)+0.8;\n",
    "    if AR>=10:\n",
    "        K=0.9;\n",
    "\n",
    "    Xw=xCGT;\n",
    "    Cmq=-K*Clwa*math.cos(sweep)*((((1./24)*(AR**3*math.tan(sweep)**2)/(AR+6*math.cos(sweep)))+1/8)+(AR*(2*(Xw/c)+0.5*(Xw/c))/(AR+2*math.cos(sweep))))\n",
    "    \n",
    "    # Damping\n",
    "    Mq=(Cmq*z[5]*c**2*rho*z[3]*S)/4;\n",
    "    Mq2=-0.5*rho*Cdg*S*(-2*z[5]*d**2*z[3]+z[5]**2*d**3); \n",
    "\n",
    "    XWT=xCGW-xCGT;\n",
    "    XP=xCGP-xCGT;\n",
    "    YP=yCGP-yCGT;\n",
    "\n",
    "\n",
    "    # Differential equations\n",
    "    dz = numpy.zeros(6)\n",
    "    dz[1]=z[3];\n",
    "    dz[2]=z[5];\n",
    "    dz[3]=-g*math.sin(z[4])-(drag/M);\n",
    "    dz[4]=(1/(z[3])*(-g*math.cos(z[4])+(lift/M)));\n",
    "    # dz(5)=(Cmo.*dyn.*c-Cy.*xCGT-Cx.*(-yCGT)-Pw.*XWT-Pp.*XP+Mq+Mq2)./I; %\n",
    "    # Without taking into account the drag of the pilot\n",
    "    # Primary version of dz(5)\n",
    "    # dz(5)=(-(-Cmo.*dyn.*c+(-Pw).*XWT+(-Pp).*XP+Cy.*xCGT+Cx.*(-yCGT)+(yCGP-yCGT).*Dpilot)+Mq+Mq2)./I;% drag of the pilot applied on CGP\n",
    "    # Simplification of the signs of dz(5)\n",
    "    dz[5]=(Cmo*dyn*c+Pw*XWT+Pp*XP-Cy*xCGT-Cx*(-yCGT)-(yCGP-yCGT)*Dpilot+Mq+Mq2)/I; # drag of the pilot applied on CGP\n",
    "    return dz\n",
    "\n",
    "\n"
   ]
  },
  {
   "cell_type": "code",
   "execution_count": 49,
   "metadata": {},
   "outputs": [
    {
     "data": {
      "text/plain": [
       "['message',\n",
       " 'nfev',\n",
       " 'njev',\n",
       " 'nlu',\n",
       " 'sol',\n",
       " 'status',\n",
       " 'success',\n",
       " 't',\n",
       " 't_events',\n",
       " 'y']"
      ]
     },
     "execution_count": 49,
     "metadata": {},
     "output_type": "execute_result"
    }
   ],
   "source": [
    "res = scipy.integrate.solve_ivp(motions, (T0, T1), numpy.array([0, u0, fr0, v0, ar0, br0]), t_eval=numpy.linspace(T0, T1, 81))\n",
    "#[t_1,z_1] = ode45('Motions',T0:timespan:T1,[u0 fr0 v0 ar0 br0]); % Runge-Kutta 4th and 5th order\n",
    "dir(res)"
   ]
  },
  {
   "cell_type": "code",
   "execution_count": 50,
   "metadata": {},
   "outputs": [
    {
     "data": {
      "text/plain": [
       "((6, 81), (81,))"
      ]
     },
     "execution_count": 50,
     "metadata": {},
     "output_type": "execute_result"
    }
   ],
   "source": [
    "res.y.shape, res.t.shape"
   ]
  },
  {
   "cell_type": "code",
   "execution_count": 51,
   "metadata": {},
   "outputs": [
    {
     "data": {
      "text/plain": [
       "[<matplotlib.lines.Line2D at 0x7f3c60c25ad0>]"
      ]
     },
     "execution_count": 51,
     "metadata": {},
     "output_type": "execute_result"
    },
    {
     "data": {
      "image/png": "[encoded data removed]",
      "text/plain": [
       "<Figure size 432x288 with 1 Axes>"
      ]
     },
     "metadata": {
      "needs_background": "light"
     },
     "output_type": "display_data"
    }
   ],
   "source": [
    "from matplotlib import pyplot as plt\n",
    "%matplotlib inline\n",
    "\n",
    "plt.plot(res.t, res.y[3,:])"
   ]
  },
  {
   "cell_type": "code",
   "execution_count": 52,
   "metadata": {},
   "outputs": [],
   "source": [
    "# B.Projection on x and y of U ( thank to gamma)\n",
    "z = res.y\n",
    "Uz=z[1,:];  # Vector U from Z\n",
    "cosG=numpy.cos(z[4,:]);\n",
    "sinG=numpy.sin(z[4,:]);\n",
    "\n",
    "r=len(Uz);\n",
    "dUz=numpy.zeros(r);\n",
    "for i in range(1, r):\n",
    "    dUz[i]=Uz[i]-Uz[i-1];\n",
    "\n",
    "#ddUz=diag(dUz);% Diagonal for product\n",
    "Ux=numpy.zeros(r);\n",
    "for i in range(1, r):\n",
    "    Ux[i]=dUz[i]*cosG[i-1]+Ux[i-1];\n",
    "\n",
    "Uy=numpy.zeros(r);\n",
    "for i in range(1, r):\n",
    "    Uy[i]=dUz[i]*sinG[i-1]+Uy[i-1];\n",
    "\n"
   ]
  },
  {
   "cell_type": "code",
   "execution_count": 53,
   "metadata": {},
   "outputs": [
    {
     "data": {
      "text/plain": [
       "Text(0.5, 1.0, 'glide path')"
      ]
     },
     "execution_count": 53,
     "metadata": {},
     "output_type": "execute_result"
    },
    {
     "data": {
      "image/png": "[encoded data removed]",
      "text/plain": [
       "<Figure size 432x288 with 1 Axes>"
      ]
     },
     "metadata": {
      "needs_background": "light"
     },
     "output_type": "display_data"
    }
   ],
   "source": [
    "plt.plot(Ux, Uy)\n",
    "plt.title(\"glide path\")"
   ]
  },
  {
   "cell_type": "code",
   "execution_count": null,
   "metadata": {},
   "outputs": [],
   "source": []
  }
 ],
 "metadata": {
  "kernelspec": {
   "display_name": "Python 3",
   "language": "python",
   "name": "python3"
  },
  "language_info": {
   "codemirror_mode": {
    "name": "ipython",
    "version": 3
   },
   "file_extension": ".py",
   "mimetype": "text/x-python",
   "name": "python",
   "nbconvert_exporter": "python",
   "pygments_lexer": "ipython3",
   "version": "3.7.4"
  }
 },
 "nbformat": 4,
 "nbformat_minor": 2
}
