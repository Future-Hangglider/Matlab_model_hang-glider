{
 "cells": [
  {
   "cell_type": "code",
   "execution_count": 54,
   "metadata": {},
   "outputs": [],
   "source": [
    "from math import radians, degrees, sin, cos, atan, tan\n",
    "\n",
    "mpilot  = 90   # kg (including harness and clothing = Hook-in weight)\n",
    "h       = 1.2  # in m (hang strap length)\n",
    "\n",
    "mwing   = 22   # kg (mass of wing)\n",
    "Cmo     = 0.05\n",
    "I       = 102  # in kg.m**2 according to G.V , I=110;% according to Cook study. Inertia Pilot+ Glider about CGTotal\n",
    "\n",
    "AR      = 5.5  # Aspect ratio Falcon 5.5\n",
    "K       = 0.7  # Cmq variable (from Methods for Estimating Stability and Control Derivatives for Standard Subsonic Airplanes (1973) -Roskam p51  )\n",
    "\n",
    "S       = 15.8 # m^2 Falcon 170 area\n",
    "c       = 1.9  # m Falcon 170\n",
    "tpdist  = 8.5*c/100 # en m (distance between CGW et Tether point)\n",
    "cgdist  = 0.06 # distance between tether point and the CGW\n",
    "Clwa    = 3.5  # spanwise average value of the wing section lift curve slope (slope of CL between 5 and 15 degrees of alpha)\n",
    "cbar    = 1.55 # distance between the apex of the downtubes and the control bar axis (optional)\n",
    "        \n",
    "Scx     = 0.16 # S.Cx of the pilot position. If prone : Scx=0.16. If stood: Scx=0.66\n",
    "g       = 9.81 # N/kg or \n",
    "rho     = 1.22 # kg/m^3 density of air\n",
    "\n",
    "M       = mpilot + mwing\n",
    "phi     = radians(14)   # angle in degrees between the downtube and the axis perpendicular to the keel\n",
    "sweep   = radians(31)   # Sweep angle at the quarterchord\n",
    "\n"
   ]
  },
  {
   "cell_type": "code",
   "execution_count": 68,
   "metadata": {},
   "outputs": [],
   "source": [
    "import scipy.integrate\n",
    "import numpy\n",
    "\n",
    "u0    = 0                # initial position along flight path \n",
    "v0    = 9                # initial airspeed in m/s\n",
    "alphr0 = radians(20)     # initial angle of attack (alph=a+f)\n",
    "ar0    = radians(-10)    # flight path angle in radians Gamma\n",
    "fr0    = alphr0 + ar0    # pitch attitude in radians/sec Theta\n",
    "br0    = radians(0)      # Initial pitch rate attitude in radians/sec^2\n",
    "\n",
    "# z = ([0, u, fr, v, ar, br])\n",
    "#          u    position, \n",
    "#          fr   pitch attitude in radians/sec Theta ]\n",
    "#          v    airspeed in m/s\n",
    "#          ar   flight path angle in radians\n",
    "#          br   pitch rate attitude in radians/sec^2\n",
    "\n",
    "# all points are relative to the aerodynamic centre\n",
    "def motions(t, y):\n",
    "    u, fr, v, ar, br = y[2:]\n",
    "    \n",
    "    Lb = 0.4       # 0.4 if forward , -0.74 if backward :distance between the cgpilot and the axis of the control bar,if trim change 'Pil_act'\n",
    "    Lb = 0.74  if t < 8 else 0.15  # model change in pitch control at t=8seconds\n",
    "    \n",
    "    alpha = fr - ar \n",
    "    \n",
    "    Clift  = -16.6*alpha**3 + 11.48*alpha**2 + 1.3*alpha + 0.038\n",
    "    Cdg    = 7.07*alpha**3 - 4.68*alpha**2 + 1.1*alpha - 0.0144\n",
    "\n",
    "    vsq    = v**2                  # airspeed square\n",
    "    lift   = 0.5*rho*vsq*S*Clift\n",
    "    Dcdg   = 0.5*rho*vsq*Cdg*S     # Drag of the wing alone\n",
    "    Dpilot = 0.5*rho*vsq*Scx       # Drag of the pilot alone\n",
    "    drag   = Dcdg + Dpilot         # Drag of the system (wing + pilot)\n",
    "    \n",
    "    dyn    = 0.5*rho*vsq*S         # dynamic pressure\n",
    "    \n",
    "\n",
    "    TP     = tpdist*numpy.array([cos(fr), sin(fr)])       # Tether point\n",
    "    CGW    = TP + cgdist*numpy.array([cos(fr), sin(fr)])  # CG of wing\n",
    "    ksi  = atan(Lb/h)                   # angle between cg pilot and the downtubes\n",
    "    CGP  = TP + h*numpy.array([sin(fr+phi+ksi), -cos(fr+phi+ksi)])  # CG of pilot\n",
    "    CGT  = (CGP*mpilot + CGW*mwing)/(mpilot + mwing)  # Position CG of the system (pilot+wing)\n",
    "\n",
    "    # Tau=z[4];\n",
    "    Cx  = -Dcdg;\n",
    "    Cy  = lift;\n",
    "    d   = numpy.sqrt(sum(CGT**2))  # norm\n",
    "\n",
    "    Xw  = CGT[0];\n",
    "    Cmq = -K*Clwa*cos(sweep)*((((1/24)*(AR**3*tan(sweep)**2)/(AR + 6*cos(sweep))) + 1/8) + (AR*(2*(Xw/c) + 0.5*(Xw/c))/(AR+2*cos(sweep))))\n",
    "\n",
    "    # Damping\n",
    "    Mq  = (Cmq*br*c**2*rho*v*S)/4\n",
    "    Mq2 = -0.5*rho*Cdg*S*(-2*br*d**2*v + br**2*d**3) \n",
    "\n",
    "    XWT = CGW[0] - CGT[0]\n",
    "    XP  = CGP[0] - CGT[0]\n",
    "    YP  = CGP[1] - CGT[1]\n",
    "\n",
    "    # Differential equations\n",
    "    dy = numpy.zeros(7)\n",
    "    dy[0] = v*cos(ar)    # change in x\n",
    "    dy[1] = v*sin(ar)    # change in altitude\n",
    "    dy[2] = v\n",
    "    dy[3] = br\n",
    "    dy[4] = -g*sin(ar) - (drag/M)\n",
    "    dy[5] = (1/v*(-g*cos(ar) + (lift/M)))\n",
    "    #print(I, Cmo*dyn*c + mwing*g*XWT + mpilot*g*XP - Cy*CGT[0] - Cx*(-CGT[1]) - YP*Dpilot + Mq + Mq2)\n",
    "    dy[6] = (Cmo*dyn*c + mwing*g*XWT + mpilot*g*XP - Cy*CGT[0] - Cx*(-CGT[1]) - YP*Dpilot + Mq + Mq2)/I\n",
    "          # drag of the pilot applied on CGP\n",
    "    dy[6] = 0\n",
    "    return dy\n",
    "\n",
    "t_span = (0, 1)\n",
    "y0 = numpy.array([0, 0, u0, fr0, v0, ar0, br0])\n",
    "t_eval=numpy.linspace(t_span[0], t_span[1], 81)\n",
    "res = scipy.integrate.solve_ivp(motions, t_span, y0, 'RK45', t_eval)\n"
   ]
  },
  {
   "cell_type": "code",
   "execution_count": 69,
   "metadata": {},
   "outputs": [
    {
     "data": {
      "text/plain": [
       "(array([ 0.        , -0.01965448]), array([0.        , 0.11084432]))"
      ]
     },
     "execution_count": 69,
     "metadata": {},
     "output_type": "execute_result"
    },
    {
     "data": {
      "image/png": "[encoded data removed]",
      "text/plain": [
       "<Figure size 432x288 with 1 Axes>"
      ]
     },
     "metadata": {
      "needs_background": "light"
     },
     "output_type": "display_data"
    }
   ],
   "source": [
    "from matplotlib import pyplot as plt\n",
    "%matplotlib inline\n",
    "\n",
    "ax, ay  = res.y[0,:], res.y[1,:]\n",
    "au, afr = res.y[2,:], res.y[3,:]   # position along path, pitch attitude\n",
    "av, aar, abr = res.y[4,:], res.y[5,:], res.y[6,:] # velocity, flight path, pitch rate change\n",
    "plt.plot(ax, ay)\n",
    "plt.title(\"glide path\")\n",
    "ay[:2], ax[:2]"
   ]
  },
  {
   "cell_type": "code",
   "execution_count": 46,
   "metadata": {},
   "outputs": [
    {
     "data": {
      "text/plain": [
       "[<matplotlib.lines.Line2D at 0x7f4b36644c90>]"
      ]
     },
     "execution_count": 46,
     "metadata": {},
     "output_type": "execute_result"
    },
    {
     "data": {
      "image/png": "[encoded data removed]",
      "text/plain": [
       "<Figure size 432x288 with 1 Axes>"
      ]
     },
     "metadata": {
      "needs_background": "light"
     },
     "output_type": "display_data"
    }
   ],
   "source": [
    "plt.plot(afr)\n",
    "plt.plot(aar)\n",
    "#plt.plot(aar-afr)\n",
    "\n"
   ]
  },
  {
   "cell_type": "code",
   "execution_count": 29,
   "metadata": {},
   "outputs": [
    {
     "data": {
      "text/plain": [
       "[<matplotlib.lines.Line2D at 0x7f4b36c83450>]"
      ]
     },
     "execution_count": 29,
     "metadata": {},
     "output_type": "execute_result"
    },
    {
     "data": {
      "image/png": "[encoded data removed]",
      "text/plain": [
       "<Figure size 432x288 with 1 Axes>"
      ]
     },
     "metadata": {
      "needs_background": "light"
     },
     "output_type": "display_data"
    }
   ],
   "source": [
    "plt.plot(av)"
   ]
  },
  {
   "cell_type": "code",
   "execution_count": null,
   "metadata": {},
   "outputs": [],
   "source": []
  },
  {
   "cell_type": "code",
   "execution_count": null,
   "metadata": {},
   "outputs": [],
   "source": []
  }
 ],
 "metadata": {
  "kernelspec": {
   "display_name": "Python 3",
   "language": "python",
   "name": "python3"
  },
  "language_info": {
   "codemirror_mode": {
    "name": "ipython",
    "version": 3
   },
   "file_extension": ".py",
   "mimetype": "text/x-python",
   "name": "python",
   "nbconvert_exporter": "python",
   "pygments_lexer": "ipython3",
   "version": "3.7.4"
  }
 },
 "nbformat": 4,
 "nbformat_minor": 2
}
