{
 "cells": [
  {
   "cell_type": "code",
   "execution_count": null,
   "metadata": {},
   "outputs": [],
   "source": [
    "# This one is attempting to generate a flight path \n",
    "# (with noise) that we can system identify from\n",
    "# Hack this one from python_version2"
   ]
  },
  {
   "cell_type": "code",
   "execution_count": 1,
   "metadata": {},
   "outputs": [],
   "source": [
    "from math import radians, degrees, sin, cos, atan, tan\n",
    "\n",
    "mpilot  = 90   # kg (including harness and clothing = Hook-in weight)\n",
    "h       = 1.2  # in m (hang strap length)\n",
    "\n",
    "mwing   = 22   # kg (mass of wing)\n",
    "Cmo     = 0.05\n",
    "I       = 102  # in kg.m**2 according to G.V , I=110;% according to Cook study. Inertia Pilot+ Glider about CGTotal\n",
    "\n",
    "AR      = 5.5  # Aspect ratio Falcon 5.5\n",
    "K       = 0.7  # Cmq variable (from Methods for Estimating Stability and Control Derivatives for Standard Subsonic Airplanes (1973) -Roskam p51  )\n",
    "\n",
    "S       = 15.8 # m^2 Falcon 170 area\n",
    "c       = 1.9  # m Falcon 170\n",
    "tpdist  = 8.5*c/100 # en m (distance between CGW et Tether point)\n",
    "cgdist  = 0.06 # distance between tether point and the CGW\n",
    "Clwa    = 3.5  # spanwise average value of the wing section lift curve slope (slope of CL between 5 and 15 degrees of alpha)\n",
    "cbar    = 1.55 # distance between the apex of the downtubes and the control bar axis (optional)\n",
    "        \n",
    "Scx     = 0.16 # S.Cx of the pilot position. If prone : Scx=0.16. If stood: Scx=0.66\n",
    "g       = 9.81 # N/kg or \n",
    "rho     = 1.22 # kg/m^3 density of air\n",
    "\n",
    "M       = mpilot + mwing\n",
    "phi     = radians(14)   # angle in degrees between the downtube and the axis perpendicular to the keel\n",
    "sweep   = radians(31)   # Sweep angle at the quarterchord"
   ]
  },
  {
   "cell_type": "code",
   "execution_count": 6,
   "metadata": {},
   "outputs": [],
   "source": [
    "import scipy.integrate\n",
    "import numpy\n",
    "\n",
    "u0    = 0                # initial position along flight path \n",
    "v0    = 9                # initial airspeed in m/s\n",
    "alphr0 = radians(20)     # initial angle of attack (alph=a+f)\n",
    "ar0    = radians(-10)    # flight path angle in radians Gamma\n",
    "fr0    = alphr0 + ar0    # pitch attitude in radians/sec Theta\n",
    "br0    = radians(0)      # Initial pitch rate attitude in radians/sec^2\n",
    "\n",
    "# z = ([0, u, fr, v, ar, br])\n",
    "#          u    position, \n",
    "#          fr   pitch attitude in radians/sec Theta ]\n",
    "#          v    airspeed in m/s\n",
    "#          ar   flight path angle in radians\n",
    "#          br   pitch rate attitude in radians/sec^2\n",
    "\n",
    "# model change in pitch control at t=5seconds\n",
    "ts = [ ]\n",
    "def Lbfromtime(t):  # pilot position\n",
    "    ts.append(t)\n",
    "    tc = t%8\n",
    "    Lb0, Lb1 = 0.74, 0.15\n",
    "    if tc < 3:\n",
    "        Lb = Lb0\n",
    "    elif tc < 4:\n",
    "        Lb = Lb0 + (tc-3)*(Lb1-Lb0)\n",
    "    elif tc < 7:\n",
    "        Lb = Lb1\n",
    "    else:\n",
    "        Lb = Lb1 + (tc-7)*(Lb0-Lb1)\n",
    "    return Lb\n",
    "    \n",
    "# all points are relative to the aerodynamic centre\n",
    "def motions(t, y):\n",
    "    u, fr, v, ar, br = y[2:]\n",
    "    \n",
    "    Lb = Lbfromtime(t)\n",
    "    \n",
    "    alpha = fr - ar \n",
    "    \n",
    "    Clift  = -16.6*alpha**3 + 11.48*alpha**2 + 1.3*alpha + 0.038\n",
    "    Cdg    = 7.07*alpha**3 - 4.68*alpha**2 + 1.1*alpha - 0.0144\n",
    "\n",
    "    vsq    = v**2                  # airspeed square\n",
    "    lift   = 0.5*rho*vsq*S*Clift\n",
    "    Dcdg   = 0.5*rho*vsq*Cdg*S     # Drag of the wing alone\n",
    "    Dpilot = 0.5*rho*vsq*Scx       # Drag of the pilot alone\n",
    "    drag   = Dcdg + Dpilot         # Drag of the system (wing + pilot)\n",
    "    \n",
    "    dyn    = 0.5*rho*vsq*S         # dynamic pressure\n",
    "    \n",
    "\n",
    "    TP     = tpdist*numpy.array([cos(fr), sin(fr)])       # Tether point\n",
    "    CGW    = TP + cgdist*numpy.array([cos(fr), sin(fr)])  # CG of wing\n",
    "    ksi  = atan(Lb/h)                   # angle between cg pilot and the downtubes\n",
    "    CGP  = TP + h*numpy.array([sin(fr+phi+ksi), -cos(fr+phi+ksi)])  # CG of pilot\n",
    "    CGT  = (CGP*mpilot + CGW*mwing)/(mpilot + mwing)  # Position CG of the system (pilot+wing)\n",
    "\n",
    "    # Tau=z[4];\n",
    "    Cx  = -Dcdg;\n",
    "    Cy  = lift;\n",
    "    d   = numpy.sqrt(sum(CGT**2))  # norm\n",
    "\n",
    "    Xw  = CGT[0];\n",
    "    Cmq = -K*Clwa*cos(sweep)*((((1/24)*(AR**3*tan(sweep)**2)/(AR + 6*cos(sweep))) + 1/8) + (AR*(2*(Xw/c) + 0.5*(Xw/c))/(AR+2*cos(sweep))))\n",
    "\n",
    "    # Damping\n",
    "    Mq  = (Cmq*br*c**2*rho*v*S)/4\n",
    "    Mq2 = -0.5*rho*Cdg*S*(-2*br*d**2*v + br**2*d**3) \n",
    "\n",
    "    XWT = CGW[0] - CGT[0]\n",
    "    XP  = CGP[0] - CGT[0]\n",
    "    YP  = CGP[1] - CGT[1]\n",
    "\n",
    "    # Differential equations\n",
    "    dy = numpy.zeros(7)\n",
    "    dy[0] = v*cos(ar)    # change in x\n",
    "    dy[1] = v*sin(ar)    # change in altitude\n",
    "    dy[2] = v            # change in airspeed\n",
    "    dy[3] = br           # rate of change in pitch\n",
    "\n",
    "    dy[4] = -g*sin(ar) - (drag/M)  # acceleration in direction of flight\n",
    "    dy[5] = (1/v*(-g*cos(ar) + (lift/M)))  # angular change of direction of flight path angle\n",
    "    #print(I, Cmo*dyn*c + mwing*g*XWT + mpilot*g*XP - Cy*CGT[0] - Cx*(-CGT[1]) - YP*Dpilot + Mq + Mq2)\n",
    "    dy[6] = (Cmo*dyn*c + mwing*g*XWT + mpilot*g*XP - Cy*CGT[0] - Cx*(-CGT[1]) - YP*Dpilot + Mq + Mq2)/I\n",
    "          # pitch rate attitude rate of change\n",
    "    #dy[6] = 0\n",
    "    return dy\n"
   ]
  },
  {
   "cell_type": "code",
   "execution_count": 7,
   "metadata": {},
   "outputs": [],
   "source": [
    "tSeconds = 60\n",
    "t_span = (0, tSeconds)\n",
    "y0 = numpy.array([0, 0, u0, fr0, v0, ar0, br0])\n",
    "t_eval=numpy.linspace(t_span[0], t_span[1], tSeconds*5+1)\n",
    "res = scipy.integrate.solve_ivp(motions, t_span, y0, 'RK45', t_eval)\n"
   ]
  },
  {
   "cell_type": "code",
   "execution_count": 5,
   "metadata": {},
   "outputs": [
    {
     "data": {
      "text/plain": [
       "(array([ 0.        , -0.34648979]), array([0.        , 1.78770073]))"
      ]
     },
     "execution_count": 5,
     "metadata": {},
     "output_type": "execute_result"
    },
    {
     "data": {
      "image/png": "[encoded data removed]",
      "text/plain": [
       "<Figure size 432x288 with 1 Axes>"
      ]
     },
     "metadata": {
      "needs_background": "light"
     },
     "output_type": "display_data"
    }
   ],
   "source": [
    "from matplotlib import pyplot as plt\n",
    "%matplotlib inline\n",
    "\n",
    "ax, ay  = res.y[0,:], res.y[1,:]\n",
    "au, afr = res.y[2,:], res.y[3,:]   # position along path, pitch attitude\n",
    "av, aar, abr = res.y[4,:], res.y[5,:], res.y[6,:] # velocity, flight path, pitch rate change\n",
    "plt.plot(ax, ay)\n",
    "plt.title(\"glide path\")\n",
    "ay[:2], ax[:2]"
   ]
  },
  {
   "cell_type": "code",
   "execution_count": 38,
   "metadata": {},
   "outputs": [
    {
     "data": {
      "text/plain": [
       "<module 'numpy' from '/home/julian/anaconda3/lib/python3.7/site-packages/numpy/__init__.py'>"
      ]
     },
     "execution_count": 38,
     "metadata": {},
     "output_type": "execute_result"
    }
   ],
   "source": [
    "numpy"
   ]
  },
  {
   "cell_type": "code",
   "execution_count": 43,
   "metadata": {},
   "outputs": [],
   "source": [
    "Lb = [Lbfromtime(t)  for t in t_eval]\n",
    "flight = numpy.array([t_eval, Lb, ax, ay, au, afr, av, aar, abr])\n",
    "numpy.save(\"flightv3.npy\", flight)"
   ]
  },
  {
   "cell_type": "code",
   "execution_count": 10,
   "metadata": {},
   "outputs": [
    {
     "data": {
      "text/plain": [
       "[<matplotlib.lines.Line2D at 0x7f00d3933050>]"
      ]
     },
     "execution_count": 10,
     "metadata": {},
     "output_type": "execute_result"
    },
    {
     "data": {
      "image/png": "[encoded data removed]",
      "text/plain": [
       "<Figure size 432x288 with 1 Axes>"
      ]
     },
     "metadata": {
      "needs_background": "light"
     },
     "output_type": "display_data"
    }
   ],
   "source": [
    "plt.plot(ts[:100])"
   ]
  },
  {
   "cell_type": "code",
   "execution_count": 19,
   "metadata": {},
   "outputs": [
    {
     "data": {
      "text/plain": [
       "(7, 3001)"
      ]
     },
     "execution_count": 19,
     "metadata": {},
     "output_type": "execute_result"
    }
   ],
   "source": [
    "y0 = numpy.array([0, 0, u0, fr0, v0, ar0, br0])\n",
    "t_eval=numpy.linspace(t_span[0], t_span[1], tSeconds*50+1)\n",
    "ys = [ y0 ]\n",
    "y = y0\n",
    "for i in range(len(t_eval)-1):\n",
    "    t, t1 = t_eval[i], t_eval[i+1]\n",
    "    diffy = motions(t, y)\n",
    "    dt = t1-t\n",
    "    y1 = [a+b*dt for a, b in zip(y, diffy)]\n",
    "    ys.append(y1)\n",
    "    y = y1\n",
    "\n",
    "len(y1), len(t_eval)\n",
    "\n",
    "\n"
   ]
  },
  {
   "cell_type": "code",
   "execution_count": 24,
   "metadata": {},
   "outputs": [
    {
     "data": {
      "text/plain": [
       "[<matplotlib.lines.Line2D at 0x7f00d36f0610>]"
      ]
     },
     "execution_count": 24,
     "metadata": {},
     "output_type": "execute_result"
    },
    {
     "data": {
      "image/png": "[encoded data removed]",
      "text/plain": [
       "<Figure size 432x288 with 1 Axes>"
      ]
     },
     "metadata": {
      "needs_background": "light"
     },
     "output_type": "display_data"
    }
   ],
   "source": [
    "plt.plot(numpy.array(ys)[:,0], numpy.array(ys)[:,1])"
   ]
  },
  {
   "cell_type": "code",
   "execution_count": null,
   "metadata": {},
   "outputs": [],
   "source": []
  },
  {
   "cell_type": "code",
   "execution_count": null,
   "metadata": {},
   "outputs": [],
   "source": []
  }
 ],
 "metadata": {
  "kernelspec": {
   "display_name": "Python 3",
   "language": "python",
   "name": "python3"
  },
  "language_info": {
   "codemirror_mode": {
    "name": "ipython",
    "version": 3
   },
   "file_extension": ".py",
   "mimetype": "text/x-python",
   "name": "python",
   "nbconvert_exporter": "python",
   "pygments_lexer": "ipython3",
   "version": "3.7.4"
  }
 },
 "nbformat": 4,
 "nbformat_minor": 2
}
