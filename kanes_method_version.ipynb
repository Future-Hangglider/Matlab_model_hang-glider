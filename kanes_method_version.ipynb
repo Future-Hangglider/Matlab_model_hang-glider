{
 "cells": [
  {
   "cell_type": "code",
   "execution_count": 13,
   "metadata": {},
   "outputs": [],
   "source": [
    "from math import radians, degrees, sin, cos, atan, tan\n",
    "\n",
    "mpilot  = 90   # kg (including harness and clothing = Hook-in weight)\n",
    "h       = 1.2  # in m (hang strap length)\n",
    "\n",
    "mwing   = 22   # kg (mass of wing)\n",
    "Cmo     = 0.05\n",
    "I       = 102  # in kg.m**2 according to G.V , I=110;% according to Cook study. Inertia Pilot+ Glider about CGTotal\n",
    "\n",
    "AR      = 5.5  # Aspect ratio Falcon 5.5\n",
    "K       = 0.7  # Cmq variable (from Methods for Estimating Stability and Control Derivatives for Standard Subsonic Airplanes (1973) -Roskam p51  )\n",
    "\n",
    "S       = 15.8 # m^2 Falcon 170 area\n",
    "c       = 1.9  # m Falcon 170\n",
    "tpdist  = 8.5*c/100 # en m (distance between CGW et Tether point)\n",
    "cgdist  = 0.06 # distance between tether point and the CGW\n",
    "Clwa    = 3.5  # spanwise average value of the wing section lift curve slope (slope of CL between 5 and 15 degrees of alpha)\n",
    "cbar    = 1.55 # distance between the apex of the downtubes and the control bar axis (optional)\n",
    "        \n",
    "Scx     = 0.16 # S.Cx of the pilot position. If prone : Scx=0.16. If stood: Scx=0.66\n",
    "g       = 9.81 # N/kg or \n",
    "rho     = 1.22 # kg/m^3 density of air\n",
    "\n",
    "M       = mpilot + mwing\n",
    "phi     = radians(14)   # angle in degrees between the downtube and the axis perpendicular to the keel\n",
    "sweep   = radians(31)   # Sweep angle at the quarterchord\n",
    "\n",
    "# this should vary 0.4 if forward , -0.74 if backward\n",
    "Lb = 0.4          # distance between the cgpilot and the axis of the control bar,if trim change 'Pil_act'\n",
    "           \n",
    "ksi  = atan(Lb/h) # angle between cg pilot and the downtubes\n"
   ]
  },
  {
   "cell_type": "code",
   "execution_count": null,
   "metadata": {},
   "outputs": [],
   "source": []
  },
  {
   "cell_type": "code",
   "execution_count": 14,
   "metadata": {},
   "outputs": [],
   "source": [
    "# use the gliderAC with added turning moments\n",
    "# as similar to the matlab version as possible\n",
    "import sympy as sp\n",
    "import sympy.physics.mechanics as me\n",
    "\n",
    "t = sp.Symbol('t')\n",
    "g_symb           = sp.Symbol('g_s')  # necessary to have as a symbol rather than 9.81\n",
    "x, z, theta      = me.dynamicsymbols('x z theta')        # position (x z) and orient pitch attitude (theta) of glider\n",
    "v, gamma, thetav = me.dynamicsymbols('v gamma theta_v')  # velocity and direction of travel, and thetav=rate of change of direction of nose pitch attitude\n",
    "xd, zd, thetad   = me.dynamicsymbols('x z theta', 1)\n",
    "kinematic_equations = [ xd - v*sp.cos(gamma), zd - v*sp.sin(gamma), thetad - thetav ]\n",
    "\n",
    "BaseFrame = me.ReferenceFrame('BaseFrame')\n",
    "origin    = me.Point('origin')\n",
    "\n",
    "# Glider positions TP=Tether Point, AC=Aerodynamic centre\n",
    "GliderFrame = BaseFrame.orientnew('GliderFrame', 'Axis', [theta, BaseFrame.y])\n",
    "gliderAC = origin.locatenew('gliderAC', x*BaseFrame.x + z*BaseFrame.z)\n",
    "gliderAC.set_vel(BaseFrame, v*sp.cos(gamma)*BaseFrame.x + v*sp.sin(gamma)*BaseFrame.z)\n",
    "#gliderAC.set_vel(BaseFrame, gliderAC.pos_from(origin).diff(t, BaseFrame))\n",
    "\n",
    "# relative to gliderAC\n",
    "gliderTPpos = tpdist*GliderFrame.x\n",
    "gliderCGpos = (tpdist+cgdist)*GliderFrame.x\n",
    "pilotCGpos  = h*(sp.sin(phi+ksi)*GliderFrame.x - sp.cos(phi+ksi)*GliderFrame.z)\n",
    "combinedCGPos = (pilotCGpos*mpilot + gliderCGpos*mwing)/(mpilot+mwing)\n",
    "\n",
    "alpha  = theta - gamma         # angle of attack\n",
    "Clift  = -16.6*alpha**3 + 11.48*alpha**2 + 1.3*alpha + 0.038\n",
    "Cdg    =  7.07*alpha**3 -  4.68*alpha**2 + 1.1*alpha - 0.0144\n",
    "vsq    = v**2                  # airspeed square\n",
    "lift   = 0.5*rho*vsq*S*Clift\n",
    "Dcdg   = 0.5*rho*vsq*Cdg*S     # Drag of the wing alone\n",
    "Dpilot = 0.5*rho*vsq*Scx       # Drag of the pilot alone\n",
    "drag   = Dcdg + Dpilot         # Drag of the system (wing + pilot)\n",
    "dyn    = 0.5*rho*vsq*S         # dynamic pressure\n",
    "\n",
    "Cx  = -Dcdg;\n",
    "Cy  = lift;\n",
    "\n",
    "Xw  = combinedCGPos.dot(BaseFrame.x);\n",
    "d   = combinedCGPos.magnitude()\n",
    "Cmq = -K*Clwa*sp.cos(sweep)*((((1/24)*(AR**3*sp.tan(sweep)**2)/(AR + 6*sp.cos(sweep))) + 1/8) + (AR*(2*(Xw/c) + 0.5*(Xw/c))/(AR+2*sp.cos(sweep))))\n",
    "\n",
    "Mq  = (Cmq*thetav*c**2*rho*v*S)/4\n",
    "Mq2 = -0.5*rho*Cdg*S*(-2*thetav*d**2*v + thetav**2*d**3) \n",
    "\n",
    "Iyy = me.outer(GliderFrame.y, GliderFrame.y)*I\n",
    "gliderbody = me.RigidBody( name=\"glider\", masscenter=gliderAC, \n",
    "                          frame=GliderFrame,    mass=M, inertia=(Iyy, gliderAC))\n",
    "\n"
   ]
  },
  {
   "cell_type": "code",
   "execution_count": 15,
   "metadata": {},
   "outputs": [],
   "source": [
    "#    CGW    = TP + cgdist*numpy.array([cos(fr), sin(fr)])  # CG of wing\n",
    "#    CGP  = TP + h*numpy.array([sin(fr+phi+ksi), -cos(fr+phi+ksi)])  # CG of pilot\n",
    "#    CGT  = (CGP*mpilot + CGW*mwing)/(mpilot + mwing)  # Position CG of the system (pilot+wing)\n",
    "XWT = (gliderCGpos - combinedCGPos).dot(BaseFrame.x)\n",
    "XP  = (pilotCGpos - combinedCGPos).dot(BaseFrame.x)\n",
    "YP  = (pilotCGpos - combinedCGPos).dot(BaseFrame.z)\n",
    "CGTx = combinedCGPos.dot(BaseFrame.x)\n",
    "CGTy = combinedCGPos.dot(BaseFrame.z)\n",
    "\n",
    "vecmotion = sp.cos(gamma)*BaseFrame.x + sp.sin(gamma)*BaseFrame.z\n",
    "vecmotionPerp = -sp.sin(gamma)*BaseFrame.x + sp.cos(gamma)*BaseFrame.z\n",
    "motionForce = -g_symb*M*BaseFrame.z - drag*vecmotion + lift*vecmotionPerp\n",
    "turningForce = Cmo*dyn*c + mwing*g*XWT + mpilot*g*XP - Cy*CGTx - Cx*(-CGTy) - YP*Dpilot + Mq + Mq2\n",
    "forces = [ (gliderAC, motionForce),\n",
    "#           (GliderFrame, turningForce*GliderFrame.y)\n",
    "         ]\n",
    "bodies = [ gliderbody ]\n",
    "\n",
    "KM = me.KanesMethod(BaseFrame, \n",
    "                     q_ind=[x, z, theta], \n",
    "                     u_ind=[v, gamma, thetav],\n",
    "                     kd_eqs=kinematic_equations)\n",
    "fr, frstar = KM.kanes_equations(bodies, forces)\n",
    "#display(fr)\n",
    "#display(frstar)\n"
   ]
  },
  {
   "cell_type": "code",
   "execution_count": 16,
   "metadata": {},
   "outputs": [
    {
     "data": {
      "text/plain": [
       "(array([ 0.        , -0.03910679]), array([0.        , 0.10739508]))"
      ]
     },
     "execution_count": 16,
     "metadata": {},
     "output_type": "execute_result"
    },
    {
     "data": {
      "image/png": "[encoded data removed]",
      "text/plain": [
       "<Figure size 432x288 with 1 Axes>"
      ]
     },
     "metadata": {
      "needs_background": "light"
     },
     "output_type": "display_data"
    }
   ],
   "source": [
    "\n",
    "from pydy.system import System\n",
    "import numpy as np\n",
    "from sympy import Derivative\n",
    "\n",
    "times = np.linspace(0.0, 1, 81)\n",
    "initial_conditions = {x:0,      z:0,  theta:radians(10), \n",
    "                      v:9, gamma:radians(-10), thetav:0.}\n",
    "sys = System(KM,\n",
    "             constants={g_symb:g},\n",
    "             initial_conditions=initial_conditions,\n",
    "             times=times)\n",
    "y1 = sys.integrate()\n",
    "\n",
    "%matplotlib inline\n",
    "import matplotlib.pyplot as plt\n",
    "\n",
    "ax, az, atheta      = y1[:,0], y1[:,1], y1[:,2]\n",
    "av, agamma, athetav = y1[:,3], y1[:,4], y1[:,5]\n",
    "\n",
    "plt.plot(ax, az)\n",
    "az[:2], ax[:2]\n"
   ]
  },
  {
   "cell_type": "code",
   "execution_count": 21,
   "metadata": {},
   "outputs": [
    {
     "data": {
      "text/plain": [
       "(-3.128543306659668, 3.125667198004746)"
      ]
     },
     "execution_count": 21,
     "metadata": {},
     "output_type": "execute_result"
    }
   ],
   "source": [
    "times[:2], az[:2]\n",
    "az[1]/times[1], 9*sin(radians(10))*2"
   ]
  },
  {
   "cell_type": "code",
   "execution_count": 30,
   "metadata": {},
   "outputs": [
    {
     "data": {
      "text/plain": [
       "[<matplotlib.lines.Line2D at 0x7f4ce7a7ad50>]"
      ]
     },
     "execution_count": 30,
     "metadata": {},
     "output_type": "execute_result"
    },
    {
     "data": {
      "image/png": "[encoded data removed]",
      "text/plain": [
       "<Figure size 432x288 with 1 Axes>"
      ]
     },
     "metadata": {
      "needs_background": "light"
     },
     "output_type": "display_data"
    }
   ],
   "source": [
    "plt.plot(atheta)\n",
    "plt.plot(agamma)\n",
    "#plt.plot(agamma-atheta)\n"
   ]
  },
  {
   "cell_type": "code",
   "execution_count": null,
   "metadata": {},
   "outputs": [],
   "source": [
    "plt.plot()"
   ]
  },
  {
   "cell_type": "code",
   "execution_count": null,
   "metadata": {},
   "outputs": [],
   "source": []
  },
  {
   "cell_type": "code",
   "execution_count": null,
   "metadata": {},
   "outputs": [],
   "source": []
  },
  {
   "cell_type": "code",
   "execution_count": null,
   "metadata": {},
   "outputs": [],
   "source": []
  },
  {
   "cell_type": "code",
   "execution_count": null,
   "metadata": {},
   "outputs": [],
   "source": []
  },
  {
   "cell_type": "code",
   "execution_count": null,
   "metadata": {},
   "outputs": [],
   "source": []
  },
  {
   "cell_type": "code",
   "execution_count": 49,
   "metadata": {},
   "outputs": [
    {
     "data": {
      "text/plain": [
       "array([[0.  , 0.  , 4.  , 3.  ],\n",
       "       [0.04, 0.03, 4.  , 3.  ]])"
      ]
     },
     "execution_count": 49,
     "metadata": {},
     "output_type": "execute_result"
    }
   ],
   "source": [
    "# Here is used for https://github.com/pydy/pydy/issues/428\n",
    "\n",
    "import sympy as sp\n",
    "import sympy.physics.mechanics as me\n",
    "from pydy.system import System\n",
    "import numpy as np\n",
    "\n",
    "f = sp.Symbol('f')\n",
    "t = sp.Symbol('t')\n",
    "x, y, xv, yv = me.dynamicsymbols('x y xv yv')\n",
    "xd, yd       = me.dynamicsymbols('x y', 1)\n",
    "kd_eqs       = [ xd - xv, yd - yv ]\n",
    "\n",
    "BaseFrame = me.ReferenceFrame('BaseFrame')\n",
    "origin  = me.Point('origin')\n",
    "bodycentre  = origin.locatenew('bodycentre', x*BaseFrame.x + y*BaseFrame.y)\n",
    "bodycentre.set_vel(BaseFrame, bodycentre.pos_from(origin).diff(t, BaseFrame))\n",
    "\n",
    "Izz = me.outer(BaseFrame.z, BaseFrame.z)*10\n",
    "body = me.RigidBody(name=\"body\", masscenter=bodycentre, \n",
    "                       frame=BaseFrame, mass=10, inertia=(Izz, bodycentre))\n",
    "\n",
    "forces = [ (bodycentre, f*BaseFrame.x) ]\n",
    "bodies = [ body ]\n",
    "\n",
    "KM = me.KanesMethod(BaseFrame, q_ind=[x,y], u_ind=[xv,yv], kd_eqs=kd_eqs)\n",
    "KM.kanes_equations(bodies, forces)\n",
    "\n",
    "sys = System(KM,\n",
    "             constants={f:0},\n",
    "             initial_conditions={x:0, y:0, xv:4, yv:3},\n",
    "             times=np.linspace(0.0, 1, 101))\n",
    "y1 = sys.integrate()\n",
    "y1.shape\n",
    "\n",
    "y1[:2]"
   ]
  },
  {
   "cell_type": "code",
   "execution_count": 28,
   "metadata": {},
   "outputs": [
    {
     "name": "stdout",
     "output_type": "stream",
     "text": [
      "[0.   0.01]\n"
     ]
    },
    {
     "data": {
      "text/plain": [
       "array([[ 0.        ,  0.        ,  5.        ,  1.57079633],\n",
       "       [-0.07853982,  0.05      ,  5.        ,  1.57079633]])"
      ]
     },
     "execution_count": 28,
     "metadata": {},
     "output_type": "execute_result"
    }
   ],
   "source": [
    "import sympy as sp\n",
    "from math import radians\n",
    "import sympy.physics.mechanics as me\n",
    "from pydy.system import System\n",
    "import numpy as np\n",
    "\n",
    "f = sp.Symbol('f')\n",
    "t = sp.Symbol('t')\n",
    "x, y = me.dynamicsymbols('x y')          # cartesian position\n",
    "v, gamma = me.dynamicsymbols('v gamma')  # polar velocity\n",
    "xd, yd       = me.dynamicsymbols('x y', 1)\n",
    "kd_eqs       = [ xd - v*sp.cos(gamma), \n",
    "                 yd - v*sp.sin(gamma) ]\n",
    "\n",
    "BaseFrame = me.ReferenceFrame('BaseFrame')\n",
    "origin  = me.Point('origin')\n",
    "bodycentre  = origin.locatenew('bodycentre', x*BaseFrame.x + y*BaseFrame.y)\n",
    "\n",
    "# either one will do\n",
    "bodycentre.set_vel(BaseFrame, bodycentre.pos_from(origin).diff(t, BaseFrame))\n",
    "#bodycentre.set_vel(BaseFrame, v*sp.cos(gamma)*BaseFrame.x + v*sp.sin(gamma)*BaseFrame.y)\n",
    "\n",
    "Izz = me.outer(BaseFrame.z, BaseFrame.z)*10\n",
    "body = me.RigidBody(name=\"body\", masscenter=bodycentre, \n",
    "                       frame=BaseFrame, mass=10, inertia=(Izz, bodycentre))\n",
    "\n",
    "forces = [ (bodycentre, f*BaseFrame.x) ]\n",
    "bodies = [ body ]\n",
    "\n",
    "KM = me.KanesMethod(BaseFrame, q_ind=[x,y], u_ind=[v,gamma], kd_eqs=kd_eqs)\n",
    "fr, frstar = KM.kanes_equations(bodies, forces)\n",
    "\n",
    "times = np.linspace(0.0, 1, 101)\n",
    "sys = System(KM,\n",
    "             constants={f:0},  # hardcoding f=0 causes issue #33\n",
    "             initial_conditions={x:0, y:0, v:5, gamma:radians(90) },\n",
    "             times=times)\n",
    "\n",
    "y1 = sys.integrate()\n",
    "print(times[:2])\n",
    "y1[:2]"
   ]
  },
  {
   "cell_type": "code",
   "execution_count": 11,
   "metadata": {},
   "outputs": [
    {
     "data": {
      "text/plain": [
       "array([[ 0.        ,  0.        ,  5.        ,  1.57079633],\n",
       "       [-0.07853982,  0.05      ,  5.        ,  1.57079633]])"
      ]
     },
     "execution_count": 11,
     "metadata": {},
     "output_type": "execute_result"
    }
   ],
   "source": [
    "y1[:2]"
   ]
  },
  {
   "cell_type": "code",
   "execution_count": 18,
   "metadata": {},
   "outputs": [
    {
     "data": {
      "text/latex": [
       "$\\displaystyle \\left[\\begin{matrix}f \\left(- \\gamma{\\left(t \\right)} \\sin{\\left(\\gamma{\\left(t \\right)} \\right)} + \\cos{\\left(\\gamma{\\left(t \\right)} \\right)}\\right)\\\\f \\left(- \\gamma{\\left(t \\right)} v{\\left(t \\right)} \\cos{\\left(\\gamma{\\left(t \\right)} \\right)} - 2 v{\\left(t \\right)} \\sin{\\left(\\gamma{\\left(t \\right)} \\right)}\\right)\\end{matrix}\\right]$"
      ],
      "text/plain": [
       "Matrix([\n",
       "[            f*(-gamma(t)*sin(gamma(t)) + cos(gamma(t)))],\n",
       "[f*(-gamma(t)*v(t)*cos(gamma(t)) - 2*v(t)*sin(gamma(t)))]])"
      ]
     },
     "metadata": {},
     "output_type": "display_data"
    }
   ],
   "source": [
    "display(fr)"
   ]
  },
  {
   "cell_type": "code",
   "execution_count": 19,
   "metadata": {},
   "outputs": [
    {
     "data": {
      "text/latex": [
       "$\\displaystyle \\left[\\begin{matrix}- \\left(10 \\left(- \\gamma{\\left(t \\right)} \\sin{\\left(\\gamma{\\left(t \\right)} \\right)} + \\cos{\\left(\\gamma{\\left(t \\right)} \\right)}\\right) \\left(- \\gamma{\\left(t \\right)} v{\\left(t \\right)} \\cos{\\left(\\gamma{\\left(t \\right)} \\right)} - 2 v{\\left(t \\right)} \\sin{\\left(\\gamma{\\left(t \\right)} \\right)}\\right) + 10 \\left(\\gamma{\\left(t \\right)} \\cos{\\left(\\gamma{\\left(t \\right)} \\right)} + \\sin{\\left(\\gamma{\\left(t \\right)} \\right)}\\right) \\left(- \\gamma{\\left(t \\right)} v{\\left(t \\right)} \\sin{\\left(\\gamma{\\left(t \\right)} \\right)} + 2 v{\\left(t \\right)} \\cos{\\left(\\gamma{\\left(t \\right)} \\right)}\\right)\\right) \\frac{d}{d t} \\gamma{\\left(t \\right)} - \\left(10 \\left(- \\gamma{\\left(t \\right)} \\sin{\\left(\\gamma{\\left(t \\right)} \\right)} + \\cos{\\left(\\gamma{\\left(t \\right)} \\right)}\\right)^{2} + 10 \\left(\\gamma{\\left(t \\right)} \\cos{\\left(\\gamma{\\left(t \\right)} \\right)} + \\sin{\\left(\\gamma{\\left(t \\right)} \\right)}\\right)^{2}\\right) \\frac{d}{d t} v{\\left(t \\right)}\\\\- \\left(10 \\left(- \\gamma{\\left(t \\right)} \\sin{\\left(\\gamma{\\left(t \\right)} \\right)} + \\cos{\\left(\\gamma{\\left(t \\right)} \\right)}\\right) \\left(- \\gamma{\\left(t \\right)} v{\\left(t \\right)} \\cos{\\left(\\gamma{\\left(t \\right)} \\right)} - 2 v{\\left(t \\right)} \\sin{\\left(\\gamma{\\left(t \\right)} \\right)}\\right) + 10 \\left(\\gamma{\\left(t \\right)} \\cos{\\left(\\gamma{\\left(t \\right)} \\right)} + \\sin{\\left(\\gamma{\\left(t \\right)} \\right)}\\right) \\left(- \\gamma{\\left(t \\right)} v{\\left(t \\right)} \\sin{\\left(\\gamma{\\left(t \\right)} \\right)} + 2 v{\\left(t \\right)} \\cos{\\left(\\gamma{\\left(t \\right)} \\right)}\\right)\\right) \\frac{d}{d t} v{\\left(t \\right)} - \\left(10 \\left(- \\gamma{\\left(t \\right)} v{\\left(t \\right)} \\sin{\\left(\\gamma{\\left(t \\right)} \\right)} + 2 v{\\left(t \\right)} \\cos{\\left(\\gamma{\\left(t \\right)} \\right)}\\right)^{2} + 10 \\left(- \\gamma{\\left(t \\right)} v{\\left(t \\right)} \\cos{\\left(\\gamma{\\left(t \\right)} \\right)} - 2 v{\\left(t \\right)} \\sin{\\left(\\gamma{\\left(t \\right)} \\right)}\\right)^{2}\\right) \\frac{d}{d t} \\gamma{\\left(t \\right)}\\end{matrix}\\right]$"
      ],
      "text/plain": [
       "Matrix([\n",
       "[                         -(10*(-gamma(t)*sin(gamma(t)) + cos(gamma(t)))*(-gamma(t)*v(t)*cos(gamma(t)) - 2*v(t)*sin(gamma(t))) + 10*(gamma(t)*cos(gamma(t)) + sin(gamma(t)))*(-gamma(t)*v(t)*sin(gamma(t)) + 2*v(t)*cos(gamma(t))))*Derivative(gamma(t), t) - (10*(-gamma(t)*sin(gamma(t)) + cos(gamma(t)))**2 + 10*(gamma(t)*cos(gamma(t)) + sin(gamma(t)))**2)*Derivative(v(t), t)],\n",
       "[-(10*(-gamma(t)*sin(gamma(t)) + cos(gamma(t)))*(-gamma(t)*v(t)*cos(gamma(t)) - 2*v(t)*sin(gamma(t))) + 10*(gamma(t)*cos(gamma(t)) + sin(gamma(t)))*(-gamma(t)*v(t)*sin(gamma(t)) + 2*v(t)*cos(gamma(t))))*Derivative(v(t), t) - (10*(-gamma(t)*v(t)*sin(gamma(t)) + 2*v(t)*cos(gamma(t)))**2 + 10*(-gamma(t)*v(t)*cos(gamma(t)) - 2*v(t)*sin(gamma(t)))**2)*Derivative(gamma(t), t)]])"
      ]
     },
     "metadata": {},
     "output_type": "display_data"
    }
   ],
   "source": [
    "display(frstar)"
   ]
  },
  {
   "cell_type": "code",
   "execution_count": 24,
   "metadata": {},
   "outputs": [
    {
     "data": {
      "text/plain": [
       "[<matplotlib.lines.Line2D at 0x7f15bdbd23d0>]"
      ]
     },
     "execution_count": 24,
     "metadata": {},
     "output_type": "execute_result"
    },
    {
     "data": {
      "image/png": "[encoded data removed]",
      "text/plain": [
       "<Figure size 432x288 with 1 Axes>"
      ]
     },
     "metadata": {
      "needs_background": "light"
     },
     "output_type": "display_data"
    }
   ],
   "source": [
    "%matplotlib inline\n",
    "import matplotlib.pyplot as plt\n",
    "plt.plot(y1[:,0])"
   ]
  },
  {
   "cell_type": "code",
   "execution_count": null,
   "metadata": {},
   "outputs": [],
   "source": []
  }
 ],
 "metadata": {
  "kernelspec": {
   "display_name": "Python 3",
   "language": "python",
   "name": "python3"
  },
  "language_info": {
   "codemirror_mode": {
    "name": "ipython",
    "version": 3
   },
   "file_extension": ".py",
   "mimetype": "text/x-python",
   "name": "python",
   "nbconvert_exporter": "python",
   "pygments_lexer": "ipython3",
   "version": "3.7.4"
  }
 },
 "nbformat": 4,
 "nbformat_minor": 2
}
