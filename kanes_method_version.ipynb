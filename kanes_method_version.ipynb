{
 "cells": [
  {
   "cell_type": "code",
   "execution_count": 1,
   "metadata": {},
   "outputs": [],
   "source": [
    "from math import radians, degrees, sin, cos, atan, tan\n",
    "\n",
    "mpilot  = 90   # kg (including harness and clothing = Hook-in weight)\n",
    "h       = 1.2  # in m (hang strap length)\n",
    "\n",
    "mwing   = 22   # kg (mass of wing)\n",
    "Cmo     = 0.05\n",
    "I       = 102  # in kg.m**2 according to G.V , I=110;% according to Cook study. Inertia Pilot+ Glider about CGTotal\n",
    "\n",
    "AR      = 5.5  # Aspect ratio Falcon 5.5\n",
    "K       = 0.7  # Cmq variable (from Methods for Estimating Stability and Control Derivatives for Standard Subsonic Airplanes (1973) -Roskam p51  )\n",
    "\n",
    "S       = 15.8 # m^2 Falcon 170 area\n",
    "c       = 1.9  # m Falcon 170\n",
    "tpdist  = 8.5*c/100 # en m (distance between CGW et Tether point)\n",
    "cgdist  = 0.06 # distance between tether point and the CGW\n",
    "Clwa    = 3.5  # spanwise average value of the wing section lift curve slope (slope of CL between 5 and 15 degrees of alpha)\n",
    "cbar    = 1.55 # distance between the apex of the downtubes and the control bar axis (optional)\n",
    "        \n",
    "Scx     = 0.16 # S.Cx of the pilot position. If prone : Scx=0.16. If stood: Scx=0.66\n",
    "g       = 9.81 # N/kg or \n",
    "rho     = 1.22 # kg/m^3 density of air\n",
    "\n",
    "M       = mpilot + mwing\n",
    "phi     = radians(14)   # angle in degrees between the downtube and the axis perpendicular to the keel\n",
    "sweep   = radians(31)   # Sweep angle at the quarterchord\n",
    "\n"
   ]
  },
  {
   "cell_type": "code",
   "execution_count": 14,
   "metadata": {},
   "outputs": [],
   "source": [
    "import sympy as sp\n",
    "import sympy.physics.mechanics as me\n",
    "\n",
    "t = sp.Symbol('t')\n",
    "x, z, theta = me.dynamicsymbols('x z theta')       # position and orient of glider\n",
    "v, phi, thetav = me.dynamicsymbols('v phi thetav') # velocity and direction\n",
    "xd, zd, thetad = me.dynamicsymbols('x z theta', 1)\n",
    "kinematic_equations = [ xd - v*sp.cos(phi), zd - v*sp.sin(phi), thetad - thetav ]\n",
    "\n",
    "BaseFrame = me.ReferenceFrame('BaseFrame')\n",
    "GliderFrame = BaseFrame.orientnew('GliderFrame', 'Axis', [theta, BaseFrame.y])\n",
    "GliderFrame.set_ang_vel(GliderFrame, thetav*GliderFrame.y)\n",
    "\n",
    "origin  = me.Point('origin')\n",
    "gliderCoG  = origin.locatenew('gliderCoG', x*BaseFrame.x + z*BaseFrame.z)\n",
    "#gliderCoG.set_vel(BaseFrame, xv*BaseFrame.x + zv*BaseFrame.z)\n",
    "\n",
    "Iyy = me.outer(GliderFrame.y, GliderFrame.y)*I\n",
    "gliderbody = me.RigidBody(name=\"glider\", masscenter=gliderCoG, \n",
    "                          frame=GliderFrame, mass=M, inertia=(Iyy, gliderCoG))\n",
    "\n",
    "gliderCoG.set_vel(BaseFrame, gliderCoG.pos_from(origin).diff(t, BaseFrame))\n"
   ]
  },
  {
   "cell_type": "code",
   "execution_count": null,
   "metadata": {},
   "outputs": [],
   "source": [
    "alpha = theta - phi"
   ]
  },
  {
   "cell_type": "code",
   "execution_count": 15,
   "metadata": {},
   "outputs": [
    {
     "data": {
      "text/latex": [
       "$\\displaystyle \\left[\\begin{matrix}- 9.81 \\phi{\\left(t \\right)} \\cos{\\left(\\phi{\\left(t \\right)} \\right)} - 9.81 \\sin{\\left(\\phi{\\left(t \\right)} \\right)}\\\\9.81 \\phi{\\left(t \\right)} v{\\left(t \\right)} \\sin{\\left(\\phi{\\left(t \\right)} \\right)} - 19.62 v{\\left(t \\right)} \\cos{\\left(\\phi{\\left(t \\right)} \\right)}\\\\0\\end{matrix}\\right]$"
      ],
      "text/plain": [
       "Matrix([\n",
       "[          -9.81*phi(t)*cos(phi(t)) - 9.81*sin(phi(t))],\n",
       "[9.81*phi(t)*v(t)*sin(phi(t)) - 19.62*v(t)*cos(phi(t))],\n",
       "[                                                    0]])"
      ]
     },
     "metadata": {},
     "output_type": "display_data"
    },
    {
     "data": {
      "text/latex": [
       "$\\displaystyle \\left[\\begin{matrix}- \\left(112 \\left(- \\phi{\\left(t \\right)} \\sin{\\left(\\phi{\\left(t \\right)} \\right)} + \\cos{\\left(\\phi{\\left(t \\right)} \\right)}\\right) \\left(- \\phi{\\left(t \\right)} v{\\left(t \\right)} \\cos{\\left(\\phi{\\left(t \\right)} \\right)} - 2 v{\\left(t \\right)} \\sin{\\left(\\phi{\\left(t \\right)} \\right)}\\right) + 112 \\left(\\phi{\\left(t \\right)} \\cos{\\left(\\phi{\\left(t \\right)} \\right)} + \\sin{\\left(\\phi{\\left(t \\right)} \\right)}\\right) \\left(- \\phi{\\left(t \\right)} v{\\left(t \\right)} \\sin{\\left(\\phi{\\left(t \\right)} \\right)} + 2 v{\\left(t \\right)} \\cos{\\left(\\phi{\\left(t \\right)} \\right)}\\right)\\right) \\frac{d}{d t} \\phi{\\left(t \\right)} - \\left(112 \\left(- \\phi{\\left(t \\right)} \\sin{\\left(\\phi{\\left(t \\right)} \\right)} + \\cos{\\left(\\phi{\\left(t \\right)} \\right)}\\right)^{2} + 112 \\left(\\phi{\\left(t \\right)} \\cos{\\left(\\phi{\\left(t \\right)} \\right)} + \\sin{\\left(\\phi{\\left(t \\right)} \\right)}\\right)^{2}\\right) \\frac{d}{d t} v{\\left(t \\right)}\\\\- \\left(112 \\left(- \\phi{\\left(t \\right)} \\sin{\\left(\\phi{\\left(t \\right)} \\right)} + \\cos{\\left(\\phi{\\left(t \\right)} \\right)}\\right) \\left(- \\phi{\\left(t \\right)} v{\\left(t \\right)} \\cos{\\left(\\phi{\\left(t \\right)} \\right)} - 2 v{\\left(t \\right)} \\sin{\\left(\\phi{\\left(t \\right)} \\right)}\\right) + 112 \\left(\\phi{\\left(t \\right)} \\cos{\\left(\\phi{\\left(t \\right)} \\right)} + \\sin{\\left(\\phi{\\left(t \\right)} \\right)}\\right) \\left(- \\phi{\\left(t \\right)} v{\\left(t \\right)} \\sin{\\left(\\phi{\\left(t \\right)} \\right)} + 2 v{\\left(t \\right)} \\cos{\\left(\\phi{\\left(t \\right)} \\right)}\\right)\\right) \\frac{d}{d t} v{\\left(t \\right)} - \\left(112 \\left(- \\phi{\\left(t \\right)} v{\\left(t \\right)} \\sin{\\left(\\phi{\\left(t \\right)} \\right)} + 2 v{\\left(t \\right)} \\cos{\\left(\\phi{\\left(t \\right)} \\right)}\\right)^{2} + 112 \\left(- \\phi{\\left(t \\right)} v{\\left(t \\right)} \\cos{\\left(\\phi{\\left(t \\right)} \\right)} - 2 v{\\left(t \\right)} \\sin{\\left(\\phi{\\left(t \\right)} \\right)}\\right)^{2}\\right) \\frac{d}{d t} \\phi{\\left(t \\right)}\\\\- \\frac{d^{2} m \\frac{d}{d t} \\operatorname{thetav}{\\left(t \\right)}}{3}\\end{matrix}\\right]$"
      ],
      "text/plain": [
       "Matrix([\n",
       "[                         -(112*(-phi(t)*sin(phi(t)) + cos(phi(t)))*(-phi(t)*v(t)*cos(phi(t)) - 2*v(t)*sin(phi(t))) + 112*(phi(t)*cos(phi(t)) + sin(phi(t)))*(-phi(t)*v(t)*sin(phi(t)) + 2*v(t)*cos(phi(t))))*Derivative(phi(t), t) - (112*(-phi(t)*sin(phi(t)) + cos(phi(t)))**2 + 112*(phi(t)*cos(phi(t)) + sin(phi(t)))**2)*Derivative(v(t), t)],\n",
       "[-(112*(-phi(t)*sin(phi(t)) + cos(phi(t)))*(-phi(t)*v(t)*cos(phi(t)) - 2*v(t)*sin(phi(t))) + 112*(phi(t)*cos(phi(t)) + sin(phi(t)))*(-phi(t)*v(t)*sin(phi(t)) + 2*v(t)*cos(phi(t))))*Derivative(v(t), t) - (112*(-phi(t)*v(t)*sin(phi(t)) + 2*v(t)*cos(phi(t)))**2 + 112*(-phi(t)*v(t)*cos(phi(t)) - 2*v(t)*sin(phi(t)))**2)*Derivative(phi(t), t)],\n",
       "[                                                                                                                                                                                                                                                                                                               -d**2*m*Derivative(thetav(t), t)/3]])"
      ]
     },
     "metadata": {},
     "output_type": "display_data"
    }
   ],
   "source": [
    "forces = [ (gliderCoG, -g*BaseFrame.z) ]\n",
    "bodies = [ gliderbody ]\n",
    "\n",
    "KM = me.KanesMethod(BaseFrame, \n",
    "                     q_ind=[x, z, theta], \n",
    "                     u_ind=[v, phi, thetav],\n",
    "                     kd_eqs=kinematic_equations)\n",
    "fr, frstar = KM.kanes_equations(bodies, forces)\n",
    "display(fr)\n",
    "display(frstar)\n"
   ]
  },
  {
   "cell_type": "code",
   "execution_count": 17,
   "metadata": {},
   "outputs": [],
   "source": [
    "from pydy.system import System\n",
    "import numpy as np\n",
    "\n",
    "initial_conditions = {x:0, z:0, theta:0.0, \n",
    "                      v:10, phi:0, thetav:0.}\n",
    "sys = System(KM,\n",
    "             constants={},\n",
    "             initial_conditions=initial_conditions,\n",
    "             times=np.linspace(0.0, 6, 50))\n",
    "y1 = sys.integrate()\n"
   ]
  },
  {
   "cell_type": "code",
   "execution_count": 19,
   "metadata": {},
   "outputs": [
    {
     "data": {
      "text/plain": [
       "[<matplotlib.lines.Line2D at 0x7f879d5ac410>]"
      ]
     },
     "execution_count": 19,
     "metadata": {},
     "output_type": "execute_result"
    },
    {
     "data": {
      "image/png": "[encoded data removed]",
      "text/plain": [
       "<Figure size 432x288 with 1 Axes>"
      ]
     },
     "metadata": {
      "needs_background": "light"
     },
     "output_type": "display_data"
    }
   ],
   "source": [
    "%matplotlib inline\n",
    "import matplotlib.pyplot as plt\n",
    "\n",
    "ax, ay, atheta = y1[:,0], y1[:,1], y1[:,2]\n",
    "plt.plot(ax, ay)"
   ]
  },
  {
   "cell_type": "code",
   "execution_count": 21,
   "metadata": {},
   "outputs": [
    {
     "data": {
      "text/latex": [
       "$\\displaystyle 9.638 \\left(7.07 \\left(- \\phi{\\left(t \\right)} + \\theta{\\left(t \\right)}\\right)^{3} - 4.68 \\left(- \\phi{\\left(t \\right)} + \\theta{\\left(t \\right)}\\right)^{2} - 1.1 \\phi{\\left(t \\right)} + 1.1 \\theta{\\left(t \\right)} - 0.0144\\right) v^{2}{\\left(t \\right)}$"
      ],
      "text/plain": [
       "9.638*(7.07*(-phi(t) + theta(t))**3 - 4.68*(-phi(t) + theta(t))**2 - 1.1*phi(t) + 1.1*theta(t) - 0.0144)*v(t)**2"
      ]
     },
     "execution_count": 21,
     "metadata": {},
     "output_type": "execute_result"
    }
   ],
   "source": [
    "alpha = theta - phi\n",
    "Clift  = -16.6*alpha**3 + 11.48*alpha**2 + 1.3*alpha + 0.038\n",
    "Cdg    = 7.07*alpha**3 - 4.68*alpha**2 + 1.1*alpha - 0.0144\n",
    "\n",
    "vsq    = v**2                  # airspeed square\n",
    "lift   = 0.5*rho*vsq*S*Clift\n",
    "Dcdg   = 0.5*rho*vsq*Cdg*S     # Drag of the wing alone\n",
    "Dpilot = 0.5*rho*vsq*Scx       # Drag of the pilot alone\n",
    "drag   = Dcdg + Dpilot         # Drag of the system (wing + pilot)\n",
    "\n",
    "Dcdg"
   ]
  },
  {
   "cell_type": "code",
   "execution_count": 23,
   "metadata": {},
   "outputs": [
    {
     "data": {
      "text/plain": [
       "-2.862965466023527"
      ]
     },
     "execution_count": 23,
     "metadata": {},
     "output_type": "execute_result"
    }
   ],
   "source": [
    "#CGT  = (CGP*mpilot + CGW*mwing)/(mpilot + mwing)  # Position CG of the system (pilot+wing)\n",
    "\n",
    "# Tau=z[4];\n",
    "#Cx  = -Dcdg;\n",
    "#Cy  = lift;\n",
    "#d   = numpy.sqrt(sum(CGT**2))  # norm\n",
    "\n",
    "#Xw  = CGT[0];\n",
    "#Cmq = -K*Clwa*cos(sweep)*((((1/24)*(AR**3*tan(sweep)**2)/(AR + 6*cos(sweep))) + 1/8) + (AR*(2*(Xw/c) + 0.5*(Xw/c))/(AR+2*cos(sweep))))\n",
    "Xw = 1\n",
    "-K*Clwa*cos(sweep)*((((1/24)*(AR**3*tan(sweep)**2)/(AR + 6*cos(sweep))) + 1/8) + (AR*(2*(Xw/c) + 0.5*(Xw/c))/(AR+2*cos(sweep))))\n"
   ]
  },
  {
   "cell_type": "code",
   "execution_count": 3,
   "metadata": {},
   "outputs": [
    {
     "ename": "TypeError",
     "evalue": "can't convert expression to float",
     "output_type": "error",
     "traceback": [
      "\u001b[0;31m---------------------------------------------------------------------------\u001b[0m",
      "\u001b[0;31mTypeError\u001b[0m                                 Traceback (most recent call last)",
      "\u001b[0;32m<ipython-input-3-f89c8d6aa4f2>\u001b[0m in \u001b[0;36m<module>\u001b[0;34m\u001b[0m\n\u001b[1;32m     75\u001b[0m \u001b[0my0\u001b[0m \u001b[0;34m=\u001b[0m \u001b[0mnumpy\u001b[0m\u001b[0;34m.\u001b[0m\u001b[0marray\u001b[0m\u001b[0;34m(\u001b[0m\u001b[0;34m[\u001b[0m\u001b[0;36m0\u001b[0m\u001b[0;34m,\u001b[0m \u001b[0;36m0\u001b[0m\u001b[0;34m,\u001b[0m \u001b[0mu0\u001b[0m\u001b[0;34m,\u001b[0m \u001b[0mfr0\u001b[0m\u001b[0;34m,\u001b[0m \u001b[0mv0\u001b[0m\u001b[0;34m,\u001b[0m \u001b[0mar0\u001b[0m\u001b[0;34m,\u001b[0m \u001b[0mbr0\u001b[0m\u001b[0;34m]\u001b[0m\u001b[0;34m)\u001b[0m\u001b[0;34m\u001b[0m\u001b[0;34m\u001b[0m\u001b[0m\n\u001b[1;32m     76\u001b[0m \u001b[0mt_eval\u001b[0m\u001b[0;34m=\u001b[0m\u001b[0mnumpy\u001b[0m\u001b[0;34m.\u001b[0m\u001b[0mlinspace\u001b[0m\u001b[0;34m(\u001b[0m\u001b[0mt_span\u001b[0m\u001b[0;34m[\u001b[0m\u001b[0;36m0\u001b[0m\u001b[0;34m]\u001b[0m\u001b[0;34m,\u001b[0m \u001b[0mt_span\u001b[0m\u001b[0;34m[\u001b[0m\u001b[0;36m1\u001b[0m\u001b[0;34m]\u001b[0m\u001b[0;34m,\u001b[0m \u001b[0;36m81\u001b[0m\u001b[0;34m)\u001b[0m\u001b[0;34m\u001b[0m\u001b[0;34m\u001b[0m\u001b[0m\n\u001b[0;32m---> 77\u001b[0;31m \u001b[0mres\u001b[0m \u001b[0;34m=\u001b[0m \u001b[0mscipy\u001b[0m\u001b[0;34m.\u001b[0m\u001b[0mintegrate\u001b[0m\u001b[0;34m.\u001b[0m\u001b[0msolve_ivp\u001b[0m\u001b[0;34m(\u001b[0m\u001b[0mmotions\u001b[0m\u001b[0;34m,\u001b[0m \u001b[0mt_span\u001b[0m\u001b[0;34m,\u001b[0m \u001b[0my0\u001b[0m\u001b[0;34m,\u001b[0m \u001b[0;34m'RK45'\u001b[0m\u001b[0;34m,\u001b[0m \u001b[0mt_eval\u001b[0m\u001b[0;34m)\u001b[0m\u001b[0;34m\u001b[0m\u001b[0;34m\u001b[0m\u001b[0m\n\u001b[0m",
      "\u001b[0;32m~/anaconda3/lib/python3.7/site-packages/scipy/integrate/_ivp/ivp.py\u001b[0m in \u001b[0;36msolve_ivp\u001b[0;34m(fun, t_span, y0, method, t_eval, dense_output, events, vectorized, **options)\u001b[0m\n\u001b[1;32m    475\u001b[0m         \u001b[0mmethod\u001b[0m \u001b[0;34m=\u001b[0m \u001b[0mMETHODS\u001b[0m\u001b[0;34m[\u001b[0m\u001b[0mmethod\u001b[0m\u001b[0;34m]\u001b[0m\u001b[0;34m\u001b[0m\u001b[0;34m\u001b[0m\u001b[0m\n\u001b[1;32m    476\u001b[0m \u001b[0;34m\u001b[0m\u001b[0m\n\u001b[0;32m--> 477\u001b[0;31m     \u001b[0msolver\u001b[0m \u001b[0;34m=\u001b[0m \u001b[0mmethod\u001b[0m\u001b[0;34m(\u001b[0m\u001b[0mfun\u001b[0m\u001b[0;34m,\u001b[0m \u001b[0mt0\u001b[0m\u001b[0;34m,\u001b[0m \u001b[0my0\u001b[0m\u001b[0;34m,\u001b[0m \u001b[0mtf\u001b[0m\u001b[0;34m,\u001b[0m \u001b[0mvectorized\u001b[0m\u001b[0;34m=\u001b[0m\u001b[0mvectorized\u001b[0m\u001b[0;34m,\u001b[0m \u001b[0;34m**\u001b[0m\u001b[0moptions\u001b[0m\u001b[0;34m)\u001b[0m\u001b[0;34m\u001b[0m\u001b[0;34m\u001b[0m\u001b[0m\n\u001b[0m\u001b[1;32m    478\u001b[0m \u001b[0;34m\u001b[0m\u001b[0m\n\u001b[1;32m    479\u001b[0m     \u001b[0;32mif\u001b[0m \u001b[0mt_eval\u001b[0m \u001b[0;32mis\u001b[0m \u001b[0;32mNone\u001b[0m\u001b[0;34m:\u001b[0m\u001b[0;34m\u001b[0m\u001b[0;34m\u001b[0m\u001b[0m\n",
      "\u001b[0;32m~/anaconda3/lib/python3.7/site-packages/scipy/integrate/_ivp/rk.py\u001b[0m in \u001b[0;36m__init__\u001b[0;34m(self, fun, t0, y0, t_bound, max_step, rtol, atol, vectorized, first_step, **extraneous)\u001b[0m\n\u001b[1;32m     98\u001b[0m         \u001b[0mself\u001b[0m\u001b[0;34m.\u001b[0m\u001b[0mmax_step\u001b[0m \u001b[0;34m=\u001b[0m \u001b[0mvalidate_max_step\u001b[0m\u001b[0;34m(\u001b[0m\u001b[0mmax_step\u001b[0m\u001b[0;34m)\u001b[0m\u001b[0;34m\u001b[0m\u001b[0;34m\u001b[0m\u001b[0m\n\u001b[1;32m     99\u001b[0m         \u001b[0mself\u001b[0m\u001b[0;34m.\u001b[0m\u001b[0mrtol\u001b[0m\u001b[0;34m,\u001b[0m \u001b[0mself\u001b[0m\u001b[0;34m.\u001b[0m\u001b[0matol\u001b[0m \u001b[0;34m=\u001b[0m \u001b[0mvalidate_tol\u001b[0m\u001b[0;34m(\u001b[0m\u001b[0mrtol\u001b[0m\u001b[0;34m,\u001b[0m \u001b[0matol\u001b[0m\u001b[0;34m,\u001b[0m \u001b[0mself\u001b[0m\u001b[0;34m.\u001b[0m\u001b[0mn\u001b[0m\u001b[0;34m)\u001b[0m\u001b[0;34m\u001b[0m\u001b[0;34m\u001b[0m\u001b[0m\n\u001b[0;32m--> 100\u001b[0;31m         \u001b[0mself\u001b[0m\u001b[0;34m.\u001b[0m\u001b[0mf\u001b[0m \u001b[0;34m=\u001b[0m \u001b[0mself\u001b[0m\u001b[0;34m.\u001b[0m\u001b[0mfun\u001b[0m\u001b[0;34m(\u001b[0m\u001b[0mself\u001b[0m\u001b[0;34m.\u001b[0m\u001b[0mt\u001b[0m\u001b[0;34m,\u001b[0m \u001b[0mself\u001b[0m\u001b[0;34m.\u001b[0m\u001b[0my\u001b[0m\u001b[0;34m)\u001b[0m\u001b[0;34m\u001b[0m\u001b[0;34m\u001b[0m\u001b[0m\n\u001b[0m\u001b[1;32m    101\u001b[0m         \u001b[0;32mif\u001b[0m \u001b[0mfirst_step\u001b[0m \u001b[0;32mis\u001b[0m \u001b[0;32mNone\u001b[0m\u001b[0;34m:\u001b[0m\u001b[0;34m\u001b[0m\u001b[0;34m\u001b[0m\u001b[0m\n\u001b[1;32m    102\u001b[0m             self.h_abs = select_initial_step(\n",
      "\u001b[0;32m~/anaconda3/lib/python3.7/site-packages/scipy/integrate/_ivp/base.py\u001b[0m in \u001b[0;36mfun\u001b[0;34m(t, y)\u001b[0m\n\u001b[1;32m    137\u001b[0m         \u001b[0;32mdef\u001b[0m \u001b[0mfun\u001b[0m\u001b[0;34m(\u001b[0m\u001b[0mt\u001b[0m\u001b[0;34m,\u001b[0m \u001b[0my\u001b[0m\u001b[0;34m)\u001b[0m\u001b[0;34m:\u001b[0m\u001b[0;34m\u001b[0m\u001b[0;34m\u001b[0m\u001b[0m\n\u001b[1;32m    138\u001b[0m             \u001b[0mself\u001b[0m\u001b[0;34m.\u001b[0m\u001b[0mnfev\u001b[0m \u001b[0;34m+=\u001b[0m \u001b[0;36m1\u001b[0m\u001b[0;34m\u001b[0m\u001b[0;34m\u001b[0m\u001b[0m\n\u001b[0;32m--> 139\u001b[0;31m             \u001b[0;32mreturn\u001b[0m \u001b[0mself\u001b[0m\u001b[0;34m.\u001b[0m\u001b[0mfun_single\u001b[0m\u001b[0;34m(\u001b[0m\u001b[0mt\u001b[0m\u001b[0;34m,\u001b[0m \u001b[0my\u001b[0m\u001b[0;34m)\u001b[0m\u001b[0;34m\u001b[0m\u001b[0;34m\u001b[0m\u001b[0m\n\u001b[0m\u001b[1;32m    140\u001b[0m \u001b[0;34m\u001b[0m\u001b[0m\n\u001b[1;32m    141\u001b[0m         \u001b[0mself\u001b[0m\u001b[0;34m.\u001b[0m\u001b[0mfun\u001b[0m \u001b[0;34m=\u001b[0m \u001b[0mfun\u001b[0m\u001b[0;34m\u001b[0m\u001b[0;34m\u001b[0m\u001b[0m\n",
      "\u001b[0;32m~/anaconda3/lib/python3.7/site-packages/scipy/integrate/_ivp/base.py\u001b[0m in \u001b[0;36mfun_wrapped\u001b[0;34m(t, y)\u001b[0m\n\u001b[1;32m     19\u001b[0m \u001b[0;34m\u001b[0m\u001b[0m\n\u001b[1;32m     20\u001b[0m     \u001b[0;32mdef\u001b[0m \u001b[0mfun_wrapped\u001b[0m\u001b[0;34m(\u001b[0m\u001b[0mt\u001b[0m\u001b[0;34m,\u001b[0m \u001b[0my\u001b[0m\u001b[0;34m)\u001b[0m\u001b[0;34m:\u001b[0m\u001b[0;34m\u001b[0m\u001b[0;34m\u001b[0m\u001b[0m\n\u001b[0;32m---> 21\u001b[0;31m         \u001b[0;32mreturn\u001b[0m \u001b[0mnp\u001b[0m\u001b[0;34m.\u001b[0m\u001b[0masarray\u001b[0m\u001b[0;34m(\u001b[0m\u001b[0mfun\u001b[0m\u001b[0;34m(\u001b[0m\u001b[0mt\u001b[0m\u001b[0;34m,\u001b[0m \u001b[0my\u001b[0m\u001b[0;34m)\u001b[0m\u001b[0;34m,\u001b[0m \u001b[0mdtype\u001b[0m\u001b[0;34m=\u001b[0m\u001b[0mdtype\u001b[0m\u001b[0;34m)\u001b[0m\u001b[0;34m\u001b[0m\u001b[0;34m\u001b[0m\u001b[0m\n\u001b[0m\u001b[1;32m     22\u001b[0m \u001b[0;34m\u001b[0m\u001b[0m\n\u001b[1;32m     23\u001b[0m     \u001b[0;32mreturn\u001b[0m \u001b[0mfun_wrapped\u001b[0m\u001b[0;34m,\u001b[0m \u001b[0my0\u001b[0m\u001b[0;34m\u001b[0m\u001b[0;34m\u001b[0m\u001b[0m\n",
      "\u001b[0;32m<ipython-input-3-f89c8d6aa4f2>\u001b[0m in \u001b[0;36mmotions\u001b[0;34m(t, y)\u001b[0m\n\u001b[1;32m     67\u001b[0m     \u001b[0mdy\u001b[0m\u001b[0;34m[\u001b[0m\u001b[0;36m4\u001b[0m\u001b[0;34m]\u001b[0m \u001b[0;34m=\u001b[0m \u001b[0;34m-\u001b[0m\u001b[0mg\u001b[0m\u001b[0;34m*\u001b[0m\u001b[0msin\u001b[0m\u001b[0;34m(\u001b[0m\u001b[0mar\u001b[0m\u001b[0;34m)\u001b[0m \u001b[0;34m-\u001b[0m \u001b[0;34m(\u001b[0m\u001b[0mdrag\u001b[0m\u001b[0;34m/\u001b[0m\u001b[0mM\u001b[0m\u001b[0;34m)\u001b[0m\u001b[0;34m\u001b[0m\u001b[0;34m\u001b[0m\u001b[0m\n\u001b[1;32m     68\u001b[0m     \u001b[0mdy\u001b[0m\u001b[0;34m[\u001b[0m\u001b[0;36m5\u001b[0m\u001b[0;34m]\u001b[0m \u001b[0;34m=\u001b[0m \u001b[0;34m(\u001b[0m\u001b[0;36m1\u001b[0m\u001b[0;34m/\u001b[0m\u001b[0mv\u001b[0m\u001b[0;34m*\u001b[0m\u001b[0;34m(\u001b[0m\u001b[0;34m-\u001b[0m\u001b[0mg\u001b[0m\u001b[0;34m*\u001b[0m\u001b[0mcos\u001b[0m\u001b[0;34m(\u001b[0m\u001b[0mar\u001b[0m\u001b[0;34m)\u001b[0m \u001b[0;34m+\u001b[0m \u001b[0;34m(\u001b[0m\u001b[0mlift\u001b[0m\u001b[0;34m/\u001b[0m\u001b[0mM\u001b[0m\u001b[0;34m)\u001b[0m\u001b[0;34m)\u001b[0m\u001b[0;34m)\u001b[0m\u001b[0;34m\u001b[0m\u001b[0;34m\u001b[0m\u001b[0m\n\u001b[0;32m---> 69\u001b[0;31m     \u001b[0mdy\u001b[0m\u001b[0;34m[\u001b[0m\u001b[0;36m6\u001b[0m\u001b[0;34m]\u001b[0m \u001b[0;34m=\u001b[0m \u001b[0;34m(\u001b[0m\u001b[0mCmo\u001b[0m\u001b[0;34m*\u001b[0m\u001b[0mdyn\u001b[0m\u001b[0;34m*\u001b[0m\u001b[0mc\u001b[0m \u001b[0;34m+\u001b[0m \u001b[0mmwing\u001b[0m\u001b[0;34m*\u001b[0m\u001b[0mg\u001b[0m\u001b[0;34m*\u001b[0m\u001b[0mXWT\u001b[0m \u001b[0;34m+\u001b[0m \u001b[0mmpilot\u001b[0m\u001b[0;34m*\u001b[0m\u001b[0mg\u001b[0m\u001b[0;34m*\u001b[0m\u001b[0mXP\u001b[0m \u001b[0;34m-\u001b[0m \u001b[0mCy\u001b[0m\u001b[0;34m*\u001b[0m\u001b[0mCGT\u001b[0m\u001b[0;34m[\u001b[0m\u001b[0;36m0\u001b[0m\u001b[0;34m]\u001b[0m \u001b[0;34m-\u001b[0m \u001b[0mCx\u001b[0m\u001b[0;34m*\u001b[0m\u001b[0;34m(\u001b[0m\u001b[0;34m-\u001b[0m\u001b[0mCGT\u001b[0m\u001b[0;34m[\u001b[0m\u001b[0;36m1\u001b[0m\u001b[0;34m]\u001b[0m\u001b[0;34m)\u001b[0m \u001b[0;34m-\u001b[0m \u001b[0mYP\u001b[0m\u001b[0;34m*\u001b[0m\u001b[0mDpilot\u001b[0m \u001b[0;34m+\u001b[0m \u001b[0mMq\u001b[0m \u001b[0;34m+\u001b[0m \u001b[0mMq2\u001b[0m\u001b[0;34m)\u001b[0m\u001b[0;34m/\u001b[0m\u001b[0mI\u001b[0m\u001b[0;34m\u001b[0m\u001b[0;34m\u001b[0m\u001b[0m\n\u001b[0m\u001b[1;32m     70\u001b[0m           \u001b[0;31m# drag of the pilot applied on CGP\u001b[0m\u001b[0;34m\u001b[0m\u001b[0;34m\u001b[0m\u001b[0;34m\u001b[0m\u001b[0m\n\u001b[1;32m     71\u001b[0m \u001b[0;34m\u001b[0m\u001b[0m\n",
      "\u001b[0;32m~/anaconda3/lib/python3.7/site-packages/sympy/core/expr.py\u001b[0m in \u001b[0;36m__float__\u001b[0;34m(self)\u001b[0m\n\u001b[1;32m    278\u001b[0m         \u001b[0;32mif\u001b[0m \u001b[0mresult\u001b[0m\u001b[0;34m.\u001b[0m\u001b[0mis_number\u001b[0m \u001b[0;32mand\u001b[0m \u001b[0mresult\u001b[0m\u001b[0;34m.\u001b[0m\u001b[0mas_real_imag\u001b[0m\u001b[0;34m(\u001b[0m\u001b[0;34m)\u001b[0m\u001b[0;34m[\u001b[0m\u001b[0;36m1\u001b[0m\u001b[0;34m]\u001b[0m\u001b[0;34m:\u001b[0m\u001b[0;34m\u001b[0m\u001b[0;34m\u001b[0m\u001b[0m\n\u001b[1;32m    279\u001b[0m             \u001b[0;32mraise\u001b[0m \u001b[0mTypeError\u001b[0m\u001b[0;34m(\u001b[0m\u001b[0;34m\"can't convert complex to float\"\u001b[0m\u001b[0;34m)\u001b[0m\u001b[0;34m\u001b[0m\u001b[0;34m\u001b[0m\u001b[0m\n\u001b[0;32m--> 280\u001b[0;31m         \u001b[0;32mraise\u001b[0m \u001b[0mTypeError\u001b[0m\u001b[0;34m(\u001b[0m\u001b[0;34m\"can't convert expression to float\"\u001b[0m\u001b[0;34m)\u001b[0m\u001b[0;34m\u001b[0m\u001b[0;34m\u001b[0m\u001b[0m\n\u001b[0m\u001b[1;32m    281\u001b[0m \u001b[0;34m\u001b[0m\u001b[0m\n\u001b[1;32m    282\u001b[0m     \u001b[0;32mdef\u001b[0m \u001b[0m__complex__\u001b[0m\u001b[0;34m(\u001b[0m\u001b[0mself\u001b[0m\u001b[0;34m)\u001b[0m\u001b[0;34m:\u001b[0m\u001b[0;34m\u001b[0m\u001b[0;34m\u001b[0m\u001b[0m\n",
      "\u001b[0;31mTypeError\u001b[0m: can't convert expression to float"
     ]
    }
   ],
   "source": [
    "import scipy.integrate\n",
    "import numpy\n",
    "\n",
    "u0    = 0                # initial position along flight path \n",
    "v0    = 9                # initial airspeed in m/s\n",
    "alphr0 = radians(20)     # initial angle of attack (alph=a+f)\n",
    "ar0    = radians(-10)    # flight path angle in radians Gamma\n",
    "fr0    = alphr0 + ar0    # pitch attitude in radians/sec Theta\n",
    "br0    = radians(0)      # Initial pitch rate attitude in radians/sec^2\n",
    "\n",
    "# z = ([0, u, fr, v, ar, br])\n",
    "#          u    position, \n",
    "#          fr   pitch attitude in radians/sec Theta ]\n",
    "#          v    airspeed in m/s\n",
    "#          ar   flight path angle in radians\n",
    "#          br   pitch rate attitude in radians/sec^2\n",
    "\n",
    "# all points are relative to the aerodynamic centre\n",
    "def motions(t, y):\n",
    "    u, fr, v, ar, br = y[2:]\n",
    "    \n",
    "    Lb = 0.4       # 0.4 if forward , -0.74 if backward :distance between the cgpilot and the axis of the control bar,if trim change 'Pil_act'\n",
    "    Lb = 0.74  if t < 8 else 0.15  # model change in pitch control at t=8seconds\n",
    "    \n",
    "    alpha = fr - ar \n",
    "    \n",
    "    Clift  = -16.6*alpha**3 + 11.48*alpha**2 + 1.3*alpha + 0.038\n",
    "    Cdg    = 7.07*alpha**3 - 4.68*alpha**2 + 1.1*alpha - 0.0144\n",
    "\n",
    "    vsq    = v**2                  # airspeed square\n",
    "    lift   = 0.5*rho*vsq*S*Clift\n",
    "    Dcdg   = 0.5*rho*vsq*Cdg*S     # Drag of the wing alone\n",
    "    Dpilot = 0.5*rho*vsq*Scx       # Drag of the pilot alone\n",
    "    drag   = Dcdg + Dpilot         # Drag of the system (wing + pilot)\n",
    "    \n",
    "    dyn    = 0.5*rho*vsq*S         # dynamic pressure\n",
    "    \n",
    "    TP     = tpdist*numpy.array([cos(fr), sin(fr)])       # Tether point\n",
    "    CGW    = TP + cgdist*numpy.array([cos(fr), sin(fr)])  # CG of wing\n",
    "    ksi  = atan(Lb/h)                   # angle between cg pilot and the downtubes\n",
    "    CGP  = TP + h*numpy.array([sin(fr+phi+ksi), -cos(fr+phi+ksi)])  # CG of pilot\n",
    "    CGT  = (CGP*mpilot + CGW*mwing)/(mpilot + mwing)  # Position CG of the system (pilot+wing)\n",
    "\n",
    "    # Tau=z[4];\n",
    "    Cx  = -Dcdg;\n",
    "    Cy  = lift;\n",
    "    d   = numpy.sqrt(sum(CGT**2))  # norm\n",
    "\n",
    "    Xw  = CGT[0];\n",
    "    Cmq = -K*Clwa*cos(sweep)*((((1/24)*(AR**3*tan(sweep)**2)/(AR + 6*cos(sweep))) + 1/8) + (AR*(2*(Xw/c) + 0.5*(Xw/c))/(AR+2*cos(sweep))))\n",
    "\n",
    "    # Damping\n",
    "    Mq  = (Cmq*br*c**2*rho*v*S)/4\n",
    "    Mq2 = -0.5*rho*Cdg*S*(-2*br*d**2*v + br**2*d**3) \n",
    "\n",
    "    XWT = CGW[0] - CGT[0]\n",
    "    XP  = CGP[0] - CGT[0]\n",
    "    YP  = CGP[1] - CGT[1]\n",
    "\n",
    "    # Differential equations\n",
    "    dy = numpy.zeros(7)\n",
    "    dy[0] = v*cos(ar)    # change in x\n",
    "    dy[1] = v*sin(ar)    # change in altitude\n",
    "    dy[2] = v\n",
    "    dy[3] = br\n",
    "    dy[4] = -g*sin(ar) - (drag/M)\n",
    "    dy[5] = (1/v*(-g*cos(ar) + (lift/M)))\n",
    "    dy[6] = (Cmo*dyn*c + mwing*g*XWT + mpilot*g*XP - Cy*CGT[0] - Cx*(-CGT[1]) - YP*Dpilot + Mq + Mq2)/I \n",
    "          # drag of the pilot applied on CGP\n",
    "    \n",
    "    return dy\n",
    "\n",
    "t_span = (0, 18)\n",
    "y0 = numpy.array([0, 0, u0, fr0, v0, ar0, br0])\n",
    "t_eval=numpy.linspace(t_span[0], t_span[1], 81)\n",
    "res = scipy.integrate.solve_ivp(motions, t_span, y0, 'RK45', t_eval)\n"
   ]
  },
  {
   "cell_type": "code",
   "execution_count": null,
   "metadata": {},
   "outputs": [],
   "source": []
  }
 ],
 "metadata": {
  "kernelspec": {
   "display_name": "Python 3",
   "language": "python",
   "name": "python3"
  },
  "language_info": {
   "codemirror_mode": {
    "name": "ipython",
    "version": 3
   },
   "file_extension": ".py",
   "mimetype": "text/x-python",
   "name": "python",
   "nbconvert_exporter": "python",
   "pygments_lexer": "ipython3",
   "version": "3.7.4"
  }
 },
 "nbformat": 4,
 "nbformat_minor": 2
}
